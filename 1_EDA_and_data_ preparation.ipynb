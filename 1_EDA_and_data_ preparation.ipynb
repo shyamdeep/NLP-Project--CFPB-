{
 "cells": [
  {
   "cell_type": "markdown",
   "id": "177ada8a-8fde-4354-993c-76ee4c660e14",
   "metadata": {},
   "source": [
    "##### Import packages"
   ]
  },
  {
   "cell_type": "code",
   "execution_count": 2,
   "id": "8e88c073-1978-4950-b136-a1d1b147ed3c",
   "metadata": {},
   "outputs": [],
   "source": [
    "import pandas as pd\n",
    "import numpy as np\n",
    "import nltk\n",
    "from nltk.corpus import stopwords\n",
    "from nltk import word_tokenize, FreqDist\n",
    "import string"
   ]
  },
  {
   "cell_type": "markdown",
   "id": "4ef96be3-3933-4df2-b66f-8b393d01e613",
   "metadata": {},
   "source": [
    "##### Import the dataset"
   ]
  },
  {
   "cell_type": "code",
   "execution_count": 3,
   "id": "f678245f-cc8f-4304-9c04-770a6bc84c2d",
   "metadata": {},
   "outputs": [],
   "source": [
    "df = pd.read_csv(r\"D:\\LEARNING\\WELLS FARGO\\NLP\\CFPB\\Data\\complaints-2023-08-29_03_42.csv\")"
   ]
  },
  {
   "cell_type": "code",
   "execution_count": 4,
   "id": "42771c24-f11c-48c4-89e2-5d941a0ee626",
   "metadata": {},
   "outputs": [
    {
     "name": "stdout",
     "output_type": "stream",
     "text": [
      "<class 'pandas.core.frame.DataFrame'>\n",
      "RangeIndex: 921585 entries, 0 to 921584\n",
      "Data columns (total 18 columns):\n",
      " #   Column                        Non-Null Count   Dtype  \n",
      "---  ------                        --------------   -----  \n",
      " 0   Date received                 921585 non-null  object \n",
      " 1   Product                       921585 non-null  object \n",
      " 2   Sub-product                   921564 non-null  object \n",
      " 3   Issue                         921585 non-null  object \n",
      " 4   Sub-issue                     875123 non-null  object \n",
      " 5   Consumer complaint narrative  387120 non-null  object \n",
      " 6   Company public response       538027 non-null  object \n",
      " 7   Company                       921585 non-null  object \n",
      " 8   State                         919397 non-null  object \n",
      " 9   ZIP code                      921403 non-null  object \n",
      " 10  Tags                          81082 non-null   object \n",
      " 11  Consumer consent provided?    879543 non-null  object \n",
      " 12  Submitted via                 921585 non-null  object \n",
      " 13  Date sent to company          921585 non-null  object \n",
      " 14  Company response to consumer  921584 non-null  object \n",
      " 15  Timely response?              921585 non-null  object \n",
      " 16  Consumer disputed?            0 non-null       float64\n",
      " 17  Complaint ID                  921585 non-null  int64  \n",
      "dtypes: float64(1), int64(1), object(16)\n",
      "memory usage: 126.6+ MB\n"
     ]
    }
   ],
   "source": [
    "df.info()"
   ]
  },
  {
   "cell_type": "code",
   "execution_count": 5,
   "id": "a69b4a6d-deca-4719-8b6e-ba92971882fa",
   "metadata": {},
   "outputs": [
    {
     "data": {
      "text/html": [
       "<div>\n",
       "<style scoped>\n",
       "    .dataframe tbody tr th:only-of-type {\n",
       "        vertical-align: middle;\n",
       "    }\n",
       "\n",
       "    .dataframe tbody tr th {\n",
       "        vertical-align: top;\n",
       "    }\n",
       "\n",
       "    .dataframe thead th {\n",
       "        text-align: right;\n",
       "    }\n",
       "</style>\n",
       "<table border=\"1\" class=\"dataframe\">\n",
       "  <thead>\n",
       "    <tr style=\"text-align: right;\">\n",
       "      <th></th>\n",
       "      <th>Date received</th>\n",
       "      <th>Product</th>\n",
       "      <th>Sub-product</th>\n",
       "      <th>Issue</th>\n",
       "      <th>Sub-issue</th>\n",
       "      <th>Consumer complaint narrative</th>\n",
       "      <th>Company public response</th>\n",
       "      <th>Company</th>\n",
       "      <th>State</th>\n",
       "      <th>ZIP code</th>\n",
       "      <th>Tags</th>\n",
       "      <th>Consumer consent provided?</th>\n",
       "      <th>Submitted via</th>\n",
       "      <th>Date sent to company</th>\n",
       "      <th>Company response to consumer</th>\n",
       "      <th>Timely response?</th>\n",
       "      <th>Consumer disputed?</th>\n",
       "      <th>Complaint ID</th>\n",
       "    </tr>\n",
       "  </thead>\n",
       "  <tbody>\n",
       "    <tr>\n",
       "      <th>0</th>\n",
       "      <td>02/06/23</td>\n",
       "      <td>Mortgage</td>\n",
       "      <td>Conventional home mortgage</td>\n",
       "      <td>Struggling to pay mortgage</td>\n",
       "      <td>NaN</td>\n",
       "      <td>NaN</td>\n",
       "      <td>Company has responded to the consumer and the ...</td>\n",
       "      <td>WELLS FARGO &amp; COMPANY</td>\n",
       "      <td>MA</td>\n",
       "      <td>01570</td>\n",
       "      <td>Older American</td>\n",
       "      <td>Consent not provided</td>\n",
       "      <td>Web</td>\n",
       "      <td>02/06/23</td>\n",
       "      <td>Closed with explanation</td>\n",
       "      <td>Yes</td>\n",
       "      <td>NaN</td>\n",
       "      <td>6521596</td>\n",
       "    </tr>\n",
       "    <tr>\n",
       "      <th>1</th>\n",
       "      <td>03/26/23</td>\n",
       "      <td>Credit reporting, credit repair services, or o...</td>\n",
       "      <td>Credit reporting</td>\n",
       "      <td>Incorrect information on your report</td>\n",
       "      <td>Personal information incorrect</td>\n",
       "      <td>NaN</td>\n",
       "      <td>NaN</td>\n",
       "      <td>EQUIFAX, INC.</td>\n",
       "      <td>TX</td>\n",
       "      <td>75002</td>\n",
       "      <td>NaN</td>\n",
       "      <td>Consent not provided</td>\n",
       "      <td>Web</td>\n",
       "      <td>03/26/23</td>\n",
       "      <td>Closed with explanation</td>\n",
       "      <td>Yes</td>\n",
       "      <td>NaN</td>\n",
       "      <td>6751978</td>\n",
       "    </tr>\n",
       "    <tr>\n",
       "      <th>2</th>\n",
       "      <td>09/13/22</td>\n",
       "      <td>Credit reporting, credit repair services, or o...</td>\n",
       "      <td>Credit reporting</td>\n",
       "      <td>Incorrect information on your report</td>\n",
       "      <td>Information belongs to someone else</td>\n",
       "      <td>Hi I am submitting this XXXX XXXX this isn't a...</td>\n",
       "      <td>Company has responded to the consumer and the ...</td>\n",
       "      <td>TRANSUNION INTERMEDIATE HOLDINGS, INC.</td>\n",
       "      <td>IL</td>\n",
       "      <td>60586</td>\n",
       "      <td>NaN</td>\n",
       "      <td>Consent provided</td>\n",
       "      <td>Web</td>\n",
       "      <td>09/13/22</td>\n",
       "      <td>Closed with non-monetary relief</td>\n",
       "      <td>Yes</td>\n",
       "      <td>NaN</td>\n",
       "      <td>5978090</td>\n",
       "    </tr>\n",
       "    <tr>\n",
       "      <th>3</th>\n",
       "      <td>03/29/23</td>\n",
       "      <td>Mortgage</td>\n",
       "      <td>Other type of mortgage</td>\n",
       "      <td>Applying for a mortgage or refinancing an exis...</td>\n",
       "      <td>NaN</td>\n",
       "      <td>I applied for, Again for a Pre-approval on a P...</td>\n",
       "      <td>Company has responded to the consumer and the ...</td>\n",
       "      <td>BANK OF AMERICA, NATIONAL ASSOCIATION</td>\n",
       "      <td>PA</td>\n",
       "      <td>XXXXX</td>\n",
       "      <td>NaN</td>\n",
       "      <td>Consent provided</td>\n",
       "      <td>Web</td>\n",
       "      <td>03/29/23</td>\n",
       "      <td>Closed with explanation</td>\n",
       "      <td>Yes</td>\n",
       "      <td>NaN</td>\n",
       "      <td>6762421</td>\n",
       "    </tr>\n",
       "    <tr>\n",
       "      <th>4</th>\n",
       "      <td>03/28/23</td>\n",
       "      <td>Credit reporting, credit repair services, or o...</td>\n",
       "      <td>Credit reporting</td>\n",
       "      <td>Problem with a credit reporting company's inve...</td>\n",
       "      <td>Problem with personal statement of dispute</td>\n",
       "      <td>there investigation found that the information...</td>\n",
       "      <td>Company has responded to the consumer and the ...</td>\n",
       "      <td>Experian Information Solutions Inc.</td>\n",
       "      <td>VA</td>\n",
       "      <td>22193</td>\n",
       "      <td>NaN</td>\n",
       "      <td>Consent provided</td>\n",
       "      <td>Web</td>\n",
       "      <td>03/28/23</td>\n",
       "      <td>Closed with non-monetary relief</td>\n",
       "      <td>Yes</td>\n",
       "      <td>NaN</td>\n",
       "      <td>6765663</td>\n",
       "    </tr>\n",
       "  </tbody>\n",
       "</table>\n",
       "</div>"
      ],
      "text/plain": [
       "  Date received                                            Product  \\\n",
       "0      02/06/23                                           Mortgage   \n",
       "1      03/26/23  Credit reporting, credit repair services, or o...   \n",
       "2      09/13/22  Credit reporting, credit repair services, or o...   \n",
       "3      03/29/23                                           Mortgage   \n",
       "4      03/28/23  Credit reporting, credit repair services, or o...   \n",
       "\n",
       "                  Sub-product  \\\n",
       "0  Conventional home mortgage   \n",
       "1            Credit reporting   \n",
       "2            Credit reporting   \n",
       "3      Other type of mortgage   \n",
       "4            Credit reporting   \n",
       "\n",
       "                                               Issue  \\\n",
       "0                         Struggling to pay mortgage   \n",
       "1               Incorrect information on your report   \n",
       "2               Incorrect information on your report   \n",
       "3  Applying for a mortgage or refinancing an exis...   \n",
       "4  Problem with a credit reporting company's inve...   \n",
       "\n",
       "                                    Sub-issue  \\\n",
       "0                                         NaN   \n",
       "1              Personal information incorrect   \n",
       "2         Information belongs to someone else   \n",
       "3                                         NaN   \n",
       "4  Problem with personal statement of dispute   \n",
       "\n",
       "                        Consumer complaint narrative  \\\n",
       "0                                                NaN   \n",
       "1                                                NaN   \n",
       "2  Hi I am submitting this XXXX XXXX this isn't a...   \n",
       "3  I applied for, Again for a Pre-approval on a P...   \n",
       "4  there investigation found that the information...   \n",
       "\n",
       "                             Company public response  \\\n",
       "0  Company has responded to the consumer and the ...   \n",
       "1                                                NaN   \n",
       "2  Company has responded to the consumer and the ...   \n",
       "3  Company has responded to the consumer and the ...   \n",
       "4  Company has responded to the consumer and the ...   \n",
       "\n",
       "                                  Company State ZIP code            Tags  \\\n",
       "0                   WELLS FARGO & COMPANY    MA    01570  Older American   \n",
       "1                           EQUIFAX, INC.    TX    75002             NaN   \n",
       "2  TRANSUNION INTERMEDIATE HOLDINGS, INC.    IL    60586             NaN   \n",
       "3   BANK OF AMERICA, NATIONAL ASSOCIATION    PA    XXXXX             NaN   \n",
       "4     Experian Information Solutions Inc.    VA    22193             NaN   \n",
       "\n",
       "  Consumer consent provided? Submitted via Date sent to company  \\\n",
       "0       Consent not provided           Web             02/06/23   \n",
       "1       Consent not provided           Web             03/26/23   \n",
       "2           Consent provided           Web             09/13/22   \n",
       "3           Consent provided           Web             03/29/23   \n",
       "4           Consent provided           Web             03/28/23   \n",
       "\n",
       "      Company response to consumer Timely response?  Consumer disputed?  \\\n",
       "0          Closed with explanation              Yes                 NaN   \n",
       "1          Closed with explanation              Yes                 NaN   \n",
       "2  Closed with non-monetary relief              Yes                 NaN   \n",
       "3          Closed with explanation              Yes                 NaN   \n",
       "4  Closed with non-monetary relief              Yes                 NaN   \n",
       "\n",
       "   Complaint ID  \n",
       "0       6521596  \n",
       "1       6751978  \n",
       "2       5978090  \n",
       "3       6762421  \n",
       "4       6765663  "
      ]
     },
     "execution_count": 5,
     "metadata": {},
     "output_type": "execute_result"
    }
   ],
   "source": [
    "df.head()"
   ]
  },
  {
   "cell_type": "markdown",
   "id": "d8f0d107-55dd-4421-aa25-8a74ba12e271",
   "metadata": {},
   "source": [
    "##### Filtering the relevant columns"
   ]
  },
  {
   "cell_type": "code",
   "execution_count": 6,
   "id": "5468526b-513a-47a7-b9be-15c0f2f67bde",
   "metadata": {},
   "outputs": [],
   "source": [
    "df = df[['Product', 'Sub-product', 'Issue', 'Sub-issue', 'Consumer complaint narrative']]"
   ]
  },
  {
   "cell_type": "code",
   "execution_count": 7,
   "id": "40ca48ec-69da-435f-aace-950d0825845a",
   "metadata": {},
   "outputs": [],
   "source": [
    "#Renaming the filtered columns\n",
    "df = df.rename(columns={\"Product\": \"product\", \"Sub-product\": \"subproduct\", \"Issue\": \"issue\", \"Sub-issue\": \"subissue\", \"Consumer complaint narrative\": \"narrative\"})"
   ]
  },
  {
   "cell_type": "markdown",
   "id": "4cd70653-367b-4f69-be44-b28af5948c52",
   "metadata": {},
   "source": [
    "##### Data Inspection"
   ]
  },
  {
   "cell_type": "code",
   "execution_count": 9,
   "id": "bd118904-0eff-4289-95b5-f3a323f38344",
   "metadata": {},
   "outputs": [
    {
     "data": {
      "text/plain": [
       "(921585, 5)"
      ]
     },
     "execution_count": 9,
     "metadata": {},
     "output_type": "execute_result"
    }
   ],
   "source": [
    "df.shape"
   ]
  },
  {
   "cell_type": "code",
   "execution_count": 29,
   "id": "702aeac2-8499-42e7-8eb0-0e1b03358e97",
   "metadata": {},
   "outputs": [
    {
     "data": {
      "text/plain": [
       "534465"
      ]
     },
     "execution_count": 29,
     "metadata": {},
     "output_type": "execute_result"
    }
   ],
   "source": [
    "#Check for na values in narrative columns\n",
    "df['narrative'].isna().sum()"
   ]
  },
  {
   "cell_type": "code",
   "execution_count": 37,
   "id": "ac715e2e-feec-4217-a85b-9b06b881a9f7",
   "metadata": {},
   "outputs": [
    {
     "data": {
      "text/plain": [
       "(387120, 5)"
      ]
     },
     "execution_count": 37,
     "metadata": {},
     "output_type": "execute_result"
    }
   ],
   "source": [
    "#Removing the rows having nan values in narrative column\n",
    "df = df[df['narrative'].notna()]\n",
    "df =df.reset_index(drop=True)\n",
    "df.shape"
   ]
  },
  {
   "cell_type": "code",
   "execution_count": 38,
   "id": "8b6b8c2c-8ba4-43ec-bd49-528d4d6405cc",
   "metadata": {},
   "outputs": [
    {
     "data": {
      "text/plain": [
       "product\n",
       "Credit reporting, credit repair services, or other personal consumer reports    274742\n",
       "Debt collection                                                                  31685\n",
       "Credit card or prepaid card                                                      23842\n",
       "Checking or savings account                                                      22374\n",
       "Mortgage                                                                         12746\n",
       "Money transfer, virtual currency, or money service                                8291\n",
       "Vehicle loan or lease                                                             5778\n",
       "Student loan                                                                      4171\n",
       "Payday loan, title loan, or personal loan                                         3491\n",
       "Name: count, dtype: int64"
      ]
     },
     "execution_count": 38,
     "metadata": {},
     "output_type": "execute_result"
    }
   ],
   "source": [
    "df['product'].value_counts()"
   ]
  },
  {
   "cell_type": "code",
   "execution_count": 39,
   "id": "da1539b4-857c-479c-8a39-0353719a399f",
   "metadata": {},
   "outputs": [
    {
     "data": {
      "text/plain": [
       "subproduct\n",
       "Credit reporting                              272015\n",
       "General-purpose credit card or charge card     18562\n",
       "Checking account                               18465\n",
       "Other debt                                      9346\n",
       "Conventional home mortgage                      7321\n",
       "Credit card debt                                7309\n",
       "I do not know                                   7088\n",
       "Loan                                            4926\n",
       "Medical debt                                    4661\n",
       "Mobile or digital wallet                        3207\n",
       "Store credit card                               3200\n",
       "Federal student loan servicing                  3034\n",
       "FHA mortgage                                    2587\n",
       "Domestic (US) money transfer                    2328\n",
       "Savings account                                 1934\n",
       "Other personal consumer report                  1859\n",
       "Installment loan                                1709\n",
       "Other banking product or service                1648\n",
       "Auto debt                                       1510\n",
       "VA mortgage                                     1232\n",
       "Virtual currency                                1153\n",
       "General-purpose prepaid card                    1141\n",
       "Private student loan                            1137\n",
       "International money transfer                     870\n",
       "Credit repair services                           868\n",
       "Personal line of credit                          854\n",
       "Lease                                            847\n",
       "Other type of mortgage                           785\n",
       "Payday loan debt                                 781\n",
       "Home equity loan or line of credit (HELOC)       651\n",
       "Payday loan                                      633\n",
       "Government benefit card                          616\n",
       "Mortgage debt                                    531\n",
       "CD (Certificate of Deposit)                      323\n",
       "Title loan                                       291\n",
       "Private student loan debt                        268\n",
       "Federal student loan debt                        191\n",
       "Check cashing service                            188\n",
       "Gift card                                        173\n",
       "Reverse mortgage                                 170\n",
       "Payroll card                                     145\n",
       "Traveler's check or cashier's check              134\n",
       "Debt settlement                                  123\n",
       "Foreign currency exchange                        106\n",
       "Refund anticipation check                        104\n",
       "Money order                                       78\n",
       "Pawn loan                                          9\n",
       "Student prepaid card                               5\n",
       "Name: count, dtype: int64"
      ]
     },
     "execution_count": 39,
     "metadata": {},
     "output_type": "execute_result"
    }
   ],
   "source": [
    "df['subproduct'].value_counts()"
   ]
  },
  {
   "cell_type": "code",
   "execution_count": 40,
   "id": "ba788c20-878a-4c38-bf51-09bd5b6a3773",
   "metadata": {},
   "outputs": [
    {
     "data": {
      "text/plain": [
       "issue\n",
       "Improper use of your report                                                         97800\n",
       "Incorrect information on your report                                                96308\n",
       "Problem with a credit reporting company's investigation into an existing problem    77641\n",
       "Attempts to collect debt not owed                                                   15890\n",
       "Managing an account                                                                 12564\n",
       "                                                                                    ...  \n",
       "Problem with cash advance                                                              12\n",
       "Incorrect exchange rate                                                                12\n",
       "Was approved for a loan, but didn't receive money                                       7\n",
       "Problem with an overdraft                                                               1\n",
       "Property was damaged or destroyed property                                              1\n",
       "Name: count, Length: 79, dtype: int64"
      ]
     },
     "execution_count": 40,
     "metadata": {},
     "output_type": "execute_result"
    }
   ],
   "source": [
    "df['issue'].value_counts()"
   ]
  },
  {
   "cell_type": "code",
   "execution_count": 41,
   "id": "87613b69-8392-4cf5-a45a-b74af683f705",
   "metadata": {},
   "outputs": [
    {
     "data": {
      "text/plain": [
       "subissue\n",
       "Reporting company used your report improperly                  82221\n",
       "Information belongs to someone else                            62139\n",
       "Their investigation did not fix an error on your report        51412\n",
       "Credit inquiries on your report that you don't recognize       14915\n",
       "Account information incorrect                                  12377\n",
       "                                                               ...  \n",
       "Trouble using the card to send money to another person             6\n",
       "Problem with a check written from your prepaid card account        4\n",
       "Threatened to turn you in to immigration or deport you             4\n",
       "Was signed up for overdraft on card, but don't want to be          1\n",
       "Qualified for a better loan than the one offered                   1\n",
       "Name: count, Length: 162, dtype: int64"
      ]
     },
     "execution_count": 41,
     "metadata": {},
     "output_type": "execute_result"
    }
   ],
   "source": [
    "df['subissue'].value_counts()"
   ]
  },
  {
   "cell_type": "code",
   "execution_count": 42,
   "id": "c28ccc67-a07e-4dae-8a11-62b5ceed272f",
   "metadata": {},
   "outputs": [
    {
     "name": "stdout",
     "output_type": "stream",
     "text": [
      "product       Credit reporting, credit repair services, or o...\n",
      "subproduct                                     Credit reporting\n",
      "issue                      Incorrect information on your report\n",
      "subissue                    Information belongs to someone else\n",
      "narrative     Hi I am submitting this XXXX XXXX this isn't a...\n",
      "Name: 0, dtype: object\n"
     ]
    },
    {
     "data": {
      "text/plain": [
       "\"Hi I am submitting this XXXX XXXX this isn't any influence and this is not a third party. TransUnion has low and unfair credit number for me in their report. I have complained. The problem has not been resolved. my fico has me at a credit score over 719transunion has me at a score around 590. That is a huge difference. transunion paints me as a XXXX. my fico say I have good credit. What the heck is going on here. i have almost no debt and my identity was stolen causing my score to drop n i made this clear for 60 days straight with transunion i spoke to a representative agent name XXXX and XXXX and XXXX from the fraud department I prefer to speak to a us rept but they refused they had me on mute for 4 hours which was hurtful I have a perfect repayment record. I have very low credit utilization. I have three negative credit items outstanding debt now. I have modest but ok income. Social Security. Something is wrong with Transunion. I do not understand why they are abusing consumers .This was a fist step towards attempting resolution. They kept lying telling me they disputed n its not reporting but it keep reporting this inaccurate information without my authorization. They refused or were unable to verify n remove the inquiries and its been 60days n they record the calls n admitted they had my police report n ftc and affidavit That was after attempting to contact Transunion more than 21 times. transunion is an abusive company. They are supposed to be protecting consumers. They need to be reigned in. they are causing me severe XXXX and stopping me from getting this job offer n now im XXXX n cant provide to my XXXX year old daughter PLEASE HELP ME PLEASE im XXXX now.with no help.\""
      ]
     },
     "execution_count": 42,
     "metadata": {},
     "output_type": "execute_result"
    }
   ],
   "source": [
    "#Inspect the first row\n",
    "print(df.iloc[0])\n",
    "text = df['narrative'][0]\n",
    "text"
   ]
  },
  {
   "cell_type": "markdown",
   "id": "79a3b3a1-c655-489d-b8de-5b2fa1acf69b",
   "metadata": {},
   "source": [
    "##### Data Preparation"
   ]
  },
  {
   "cell_type": "code",
   "execution_count": 43,
   "id": "6b2c1e61-2ee9-43e6-8ff3-2ef0c28f26cb",
   "metadata": {},
   "outputs": [],
   "source": [
    "#Function to tokenize and remove the stop words\n",
    "stopwords_list = stopwords.words('english') + list(string.punctuation)\n",
    "stopwords_list += [\"''\", '\"\"', '...', '``']"
   ]
  },
  {
   "cell_type": "code",
   "execution_count": 44,
   "id": "4ddc63b6-ff27-485a-9232-ff729f875cf7",
   "metadata": {},
   "outputs": [
    {
     "data": {
      "text/plain": [
       "'!\"#$%&\\'()*+,-./:;<=>?@[\\\\]^_`{|}~'"
      ]
     },
     "execution_count": 44,
     "metadata": {},
     "output_type": "execute_result"
    }
   ],
   "source": [
    "string.punctuation"
   ]
  },
  {
   "cell_type": "code",
   "execution_count": 45,
   "id": "4a192edc-6277-4c59-8d88-f4913ca50370",
   "metadata": {},
   "outputs": [],
   "source": [
    "def process_narrative(narrative):\n",
    "    tokens = nltk.word_tokenize(narrative)\n",
    "    stopwords_removed = [token.lower() for token in tokens if token.lower() not in stopwords_list]\n",
    "    return stopwords_removed  "
   ]
  },
  {
   "cell_type": "code",
   "execution_count": 48,
   "id": "8122a899-e693-4b41-bac0-fac2044881e4",
   "metadata": {},
   "outputs": [
    {
     "data": {
      "text/plain": [
       "['hi',\n",
       " 'submitting',\n",
       " 'xxxx',\n",
       " 'xxxx',\n",
       " \"n't\",\n",
       " 'influence',\n",
       " 'third',\n",
       " 'party',\n",
       " 'transunion',\n",
       " 'low']"
      ]
     },
     "execution_count": 48,
     "metadata": {},
     "output_type": "execute_result"
    }
   ],
   "source": [
    "text_words = process_narrative(text)\n",
    "text_words[0:10]"
   ]
  },
  {
   "cell_type": "code",
   "execution_count": 49,
   "id": "66edc66a-2baf-4087-a02a-3ec8bfc57a12",
   "metadata": {},
   "outputs": [],
   "source": [
    "# Add to stopwords list\n",
    "stopwords_list += ['--', 'xxxx']"
   ]
  },
  {
   "cell_type": "code",
   "execution_count": 50,
   "id": "9166b185-c6f2-4bb7-bc58-9a855acc9409",
   "metadata": {},
   "outputs": [
    {
     "data": {
      "text/plain": [
       "{'hi': 1,\n",
       " 'submitting': 1,\n",
       " \"n't\": 1,\n",
       " 'influence': 1,\n",
       " 'third': 1,\n",
       " 'party': 1,\n",
       " 'transunion': 6,\n",
       " 'low': 2,\n",
       " 'unfair': 1,\n",
       " 'credit': 5,\n",
       " 'number': 1,\n",
       " 'report': 2,\n",
       " 'complained': 1,\n",
       " 'problem': 1,\n",
       " 'resolved': 1,\n",
       " 'fico': 2,\n",
       " 'score': 3,\n",
       " '719transunion': 1,\n",
       " 'around': 1,\n",
       " '590': 1,\n",
       " 'huge': 1,\n",
       " 'difference': 1,\n",
       " 'paints': 1,\n",
       " 'say': 1,\n",
       " 'good': 1,\n",
       " 'heck': 1,\n",
       " 'going': 1,\n",
       " 'almost': 1,\n",
       " 'debt': 2,\n",
       " 'identity': 1,\n",
       " 'stolen': 1,\n",
       " 'causing': 2,\n",
       " 'drop': 1,\n",
       " 'n': 8,\n",
       " 'made': 1,\n",
       " 'clear': 1,\n",
       " '60': 1,\n",
       " 'days': 1,\n",
       " 'straight': 1,\n",
       " 'spoke': 1,\n",
       " 'representative': 1,\n",
       " 'agent': 1,\n",
       " 'name': 1,\n",
       " 'fraud': 1,\n",
       " 'department': 1,\n",
       " 'prefer': 1,\n",
       " 'speak': 1,\n",
       " 'us': 1,\n",
       " 'rept': 1,\n",
       " 'refused': 2,\n",
       " 'mute': 1,\n",
       " '4': 1,\n",
       " 'hours': 1,\n",
       " 'hurtful': 1,\n",
       " 'perfect': 1,\n",
       " 'repayment': 1,\n",
       " 'record': 2,\n",
       " 'utilization': 1,\n",
       " 'three': 1,\n",
       " 'negative': 1,\n",
       " 'items': 1,\n",
       " 'outstanding': 1,\n",
       " 'modest': 1,\n",
       " 'ok': 1,\n",
       " 'income': 1,\n",
       " 'social': 1,\n",
       " 'security': 1,\n",
       " 'something': 1,\n",
       " 'wrong': 1,\n",
       " 'understand': 1,\n",
       " 'abusing': 1,\n",
       " 'consumers': 2,\n",
       " '.this': 1,\n",
       " 'fist': 1,\n",
       " 'step': 1,\n",
       " 'towards': 1,\n",
       " 'attempting': 2,\n",
       " 'resolution': 1,\n",
       " 'kept': 1,\n",
       " 'lying': 1,\n",
       " 'telling': 1,\n",
       " 'disputed': 1,\n",
       " 'reporting': 2,\n",
       " 'keep': 1,\n",
       " 'inaccurate': 1,\n",
       " 'information': 1,\n",
       " 'without': 1,\n",
       " 'authorization': 1,\n",
       " 'unable': 1,\n",
       " 'verify': 1,\n",
       " 'remove': 1,\n",
       " 'inquiries': 1,\n",
       " '60days': 1,\n",
       " 'calls': 1,\n",
       " 'admitted': 1,\n",
       " 'police': 1,\n",
       " 'ftc': 1,\n",
       " 'affidavit': 1,\n",
       " 'contact': 1,\n",
       " '21': 1,\n",
       " 'times': 1,\n",
       " 'abusive': 1,\n",
       " 'company': 1,\n",
       " 'supposed': 1,\n",
       " 'protecting': 1,\n",
       " 'need': 1,\n",
       " 'reigned': 1,\n",
       " 'severe': 1,\n",
       " 'stopping': 1,\n",
       " 'getting': 1,\n",
       " 'job': 1,\n",
       " 'offer': 1,\n",
       " 'im': 2,\n",
       " 'cant': 1,\n",
       " 'provide': 1,\n",
       " 'year': 1,\n",
       " 'old': 1,\n",
       " 'daughter': 1,\n",
       " 'please': 2,\n",
       " 'help': 2,\n",
       " 'now.with': 1}"
      ]
     },
     "execution_count": 50,
     "metadata": {},
     "output_type": "execute_result"
    }
   ],
   "source": [
    "# Check out word counts\n",
    "\n",
    "text_words = process_narrative(text)\n",
    "\n",
    "word_counts = {}\n",
    "for i in range(len(text_words)):\n",
    "    word_counts[text_words[i]] = text_words.count(text_words[i])\n",
    "word_counts"
   ]
  },
  {
   "cell_type": "markdown",
   "id": "ccb8d291-d58c-472b-954c-d18a89c4fbfc",
   "metadata": {},
   "source": [
    "It seems there are a lot of numbers. Update function to get rid of numbers from the list.\n",
    "\n",
    "Note: this function also gets rid of strings with punctuation in it like 'xx/xx/xxxx' or \"n't\"."
   ]
  },
  {
   "cell_type": "code",
   "execution_count": 53,
   "id": "1e68c4aa-97e8-4b9a-abcc-db3905c8daff",
   "metadata": {},
   "outputs": [],
   "source": [
    "def process_narrative(narrative):\n",
    "    tokens = nltk.word_tokenize(narrative)\n",
    "    stopwords_removed = [token.lower() for token in tokens if token.lower() not in stopwords_list]\n",
    "    \n",
    "    # adding line to remove all tokens with numbers and punctuation\n",
    "    stopwords_punc_and_numbers_removed = [word for word in stopwords_removed if word.isalpha()]\n",
    "    \n",
    "    return stopwords_punc_and_numbers_removed  "
   ]
  },
  {
   "cell_type": "code",
   "execution_count": 54,
   "id": "1c8e42ca-89c9-48e0-b052-0a383a584fce",
   "metadata": {},
   "outputs": [],
   "source": [
    "# Redoing processing with updated function\n",
    "text_words = process_narrative(text)"
   ]
  },
  {
   "cell_type": "code",
   "execution_count": 55,
   "id": "353388d7-48e4-4db8-8da3-80bf14d94f90",
   "metadata": {},
   "outputs": [
    {
     "data": {
      "text/plain": [
       "FreqDist({'n': 8, 'transunion': 6, 'credit': 5, 'score': 3, 'low': 2, 'report': 2, 'fico': 2, 'debt': 2, 'causing': 2, 'refused': 2, ...})"
      ]
     },
     "execution_count": 55,
     "metadata": {},
     "output_type": "execute_result"
    }
   ],
   "source": [
    "# make dictionaryof word counts\n",
    "FreqDist(text_words)"
   ]
  },
  {
   "cell_type": "code",
   "execution_count": 56,
   "id": "19c700ae-d4c1-4ed0-a449-f29eec7fff79",
   "metadata": {},
   "outputs": [
    {
     "data": {
      "text/plain": [
       "nltk.probability.FreqDist"
      ]
     },
     "execution_count": 56,
     "metadata": {},
     "output_type": "execute_result"
    }
   ],
   "source": [
    "type(FreqDist(text_words))"
   ]
  },
  {
   "cell_type": "code",
   "execution_count": 57,
   "id": "df359fd9-0770-4c4f-b4dd-328b149de81f",
   "metadata": {},
   "outputs": [
    {
     "data": {
      "text/plain": [
       "[('n', 8),\n",
       " ('transunion', 6),\n",
       " ('credit', 5),\n",
       " ('score', 3),\n",
       " ('low', 2),\n",
       " ('report', 2),\n",
       " ('fico', 2),\n",
       " ('debt', 2),\n",
       " ('causing', 2),\n",
       " ('refused', 2)]"
      ]
     },
     "execution_count": 57,
     "metadata": {},
     "output_type": "execute_result"
    }
   ],
   "source": [
    "FreqDist(text_words).most_common(10)"
   ]
  },
  {
   "cell_type": "code",
   "execution_count": 58,
   "id": "4167cc01-72b5-435a-a7dd-78b5639e2fcb",
   "metadata": {},
   "outputs": [
    {
     "data": {
      "image/png": "[encoded data removed]",
      "text/plain": [
       "<Figure size 640x480 with 1 Axes>"
      ]
     },
     "metadata": {},
     "output_type": "display_data"
    },
    {
     "data": {
      "text/plain": [
       "<Axes: xlabel='Samples', ylabel='Counts'>"
      ]
     },
     "execution_count": 58,
     "metadata": {},
     "output_type": "execute_result"
    }
   ],
   "source": [
    "FreqDist(text_words).plot(10)"
   ]
  },
  {
   "cell_type": "code",
   "execution_count": 62,
   "id": "fd30abd3-d4b9-4419-813e-dc377ed6258e",
   "metadata": {},
   "outputs": [
    {
     "data": {
      "text/plain": [
       "product                                                Mortgage\n",
       "subproduct                               Other type of mortgage\n",
       "issue         Applying for a mortgage or refinancing an exis...\n",
       "subissue                                                    NaN\n",
       "Name: 1, dtype: object"
      ]
     },
     "execution_count": 62,
     "metadata": {},
     "output_type": "execute_result"
    }
   ],
   "source": [
    "#Trying process on the next two rows\n",
    "df.iloc[1][0:4]"
   ]
  },
  {
   "cell_type": "code",
   "execution_count": 63,
   "id": "6223d927-5495-4442-9cea-995cbd2f21a5",
   "metadata": {},
   "outputs": [
    {
     "data": {
      "text/plain": [
       "\"I applied for, Again for a Pre-approval on a Property in order to be able to view, several properties, in order to be able to use an make a Consumer Credit Transaction, to purchase myself a home. After Filing a report with this agency back in, I think it was XX/XX/XXXX, Pertaining to this same agency. Bank of America, I recieved a respone letter and Call, some time after this, saying that, 'Bank of America , had, 'Pre-approved me for a Mortgage, and that I never responded. The Asociate ask me to come back in to a BOFA and reapply. I went to, XXXX XXXX XXXX, XXXX, Pa XXXX, XX/XX/XXXX. I spoke to an Asociate, by the name of, XXXX XXXX show him the response letter, showing that I I was, previously Pre-Approved, He said, that the letter doesn't mean a thing, and that bank, often send out letters like this to their customers. XXXX XXXX said he Could Not assist me, so he put me in touch with, XXXX. XXXX XXXX, in the mortgage department. XXXX XXXX said, he Could Not assist me, said my, 'credit score, is to low for the bank to assist me in getting a Pre-approval, I told him, that it is against, Federal Law to deny me an, 'Extension of Credit ' he told me, I am Not denying you, I am simply stating BOFA, Policy, because of this, he refuse give an Pre-approval. I completed the mortgage application, anyway, spoke with, XXXX XXXX on the phone, XX/XX/XXXX she told me my credit score is to low, for BOFA policy, and that she was Unable to assist me, with an Extension of my Consumer Credit.\""
      ]
     },
     "execution_count": 63,
     "metadata": {},
     "output_type": "execute_result"
    }
   ],
   "source": [
    "text = df['narrative'][1]\n",
    "text"
   ]
  },
  {
   "cell_type": "code",
   "execution_count": 64,
   "id": "bcb9bd31-ac42-4b4e-9878-9feb3f964833",
   "metadata": {},
   "outputs": [],
   "source": [
    "text_words = process_narrative(text)"
   ]
  },
  {
   "cell_type": "code",
   "execution_count": 65,
   "id": "570fc279-af5c-4b24-b304-365f7eb6fa1a",
   "metadata": {},
   "outputs": [
    {
     "data": {
      "text/plain": [
       "[('credit', 4),\n",
       " ('said', 4),\n",
       " ('assist', 4),\n",
       " ('bank', 3),\n",
       " ('letter', 3),\n",
       " ('mortgage', 3),\n",
       " ('bofa', 3),\n",
       " ('told', 3),\n",
       " ('order', 2),\n",
       " ('able', 2),\n",
       " ('consumer', 2),\n",
       " ('agency', 2),\n",
       " ('back', 2),\n",
       " ('america', 2),\n",
       " ('asociate', 2),\n",
       " ('spoke', 2),\n",
       " ('could', 2),\n",
       " ('score', 2),\n",
       " ('low', 2),\n",
       " ('policy', 2),\n",
       " ('applied', 1),\n",
       " ('property', 1),\n",
       " ('view', 1),\n",
       " ('several', 1),\n",
       " ('properties', 1),\n",
       " ('use', 1),\n",
       " ('make', 1),\n",
       " ('transaction', 1),\n",
       " ('purchase', 1),\n",
       " ('home', 1)]"
      ]
     },
     "execution_count": 65,
     "metadata": {},
     "output_type": "execute_result"
    }
   ],
   "source": [
    "FreqDist(text_words).most_common(30)"
   ]
  },
  {
   "cell_type": "code",
   "execution_count": 66,
   "id": "a3eef606-24e8-477d-bf4d-f2b0a12e74e9",
   "metadata": {},
   "outputs": [
    {
     "data": {
      "text/plain": [
       "product       Credit reporting, credit repair services, or o...\n",
       "subproduct                                     Credit reporting\n",
       "issue         Problem with a credit reporting company's inve...\n",
       "subissue             Problem with personal statement of dispute\n",
       "Name: 2, dtype: object"
      ]
     },
     "execution_count": 66,
     "metadata": {},
     "output_type": "execute_result"
    }
   ],
   "source": [
    "df.iloc[2][0:4]"
   ]
  },
  {
   "cell_type": "code",
   "execution_count": 67,
   "id": "d7754f4d-a8d2-4b1f-a7eb-fb35d1c415ca",
   "metadata": {},
   "outputs": [
    {
     "data": {
      "text/plain": [
       "[('investigation', 1),\n",
       " ('found', 1),\n",
       " ('information', 1),\n",
       " ('disputed', 1),\n",
       " ('inaccurate', 1),\n",
       " ('verified', 1),\n",
       " ('notice', 1),\n",
       " ('say', 1),\n",
       " ('also', 1),\n",
       " ('state', 1),\n",
       " ('corrections', 1),\n",
       " ('furnisher', 1),\n",
       " ('providing', 1),\n",
       " ('credit', 1),\n",
       " ('reporting', 1),\n",
       " ('companies', 1),\n",
       " ('fix', 1)]"
      ]
     },
     "execution_count": 67,
     "metadata": {},
     "output_type": "execute_result"
    }
   ],
   "source": [
    "text = df['narrative'][2]\n",
    "text_words = process_narrative(text)\n",
    "FreqDist(text_words).most_common(30)"
   ]
  },
  {
   "cell_type": "markdown",
   "id": "bff72ab5-74a2-4ab3-9a42-d04888eafc5a",
   "metadata": {},
   "source": [
    "##### Combine categories and create new dataframes"
   ]
  },
  {
   "cell_type": "code",
   "execution_count": 69,
   "id": "c6ec7585-280b-4db0-8e2b-ed933c229c81",
   "metadata": {},
   "outputs": [
    {
     "data": {
      "text/plain": [
       "product\n",
       "Credit reporting, credit repair services, or other personal consumer reports    274742\n",
       "Debt collection                                                                  31685\n",
       "Credit card or prepaid card                                                      23842\n",
       "Checking or savings account                                                      22374\n",
       "Mortgage                                                                         12746\n",
       "Money transfer, virtual currency, or money service                                8291\n",
       "Vehicle loan or lease                                                             5778\n",
       "Student loan                                                                      4171\n",
       "Payday loan, title loan, or personal loan                                         3491\n",
       "Name: count, dtype: int64"
      ]
     },
     "execution_count": 69,
     "metadata": {},
     "output_type": "execute_result"
    }
   ],
   "source": [
    "# Inspect products again\n",
    "df['product'].value_counts()"
   ]
  },
  {
   "cell_type": "markdown",
   "id": "872f0354-7027-4078-b9c9-4407f5e7fbdd",
   "metadata": {},
   "source": [
    "- Rename \"credit_reporting\"\n",
    "- Rename \"debt_collection\"\n",
    "- Rename \"credit_card\"\n",
    "- Rename \"mortgage\"\n",
    "- Combine \"checking\" and \"money transfer\" into \"retail_banking\"\n",
    "- Combine the loans into \"loans\""
   ]
  },
  {
   "cell_type": "code",
   "execution_count": 70,
   "id": "dc500687-24a3-4fc9-aea7-1b7f3ce4cf35",
   "metadata": {},
   "outputs": [],
   "source": [
    "df['product'].replace({'Credit reporting, credit repair services, or other personal consumer reports': 'credit_reporting',\n",
    "                       'Debt collection': 'debt_collection',\n",
    "                       'Credit card or prepaid card': 'credit_card',\n",
    "                       'Mortgage': 'mortgage',\n",
    "                       'Checking or savings account': 'retail_banking',\n",
    "                       'Money transfer, virtual currency, or money service': 'retail_banking',\n",
    "                       'Vehicle loan or lease': 'loans',\n",
    "                       'Payday loan, title loan, or personal loan': 'loans',\n",
    "                       'Student loan': 'loans'}, inplace=True)"
   ]
  },
  {
   "cell_type": "code",
   "execution_count": 71,
   "id": "e506f899-2207-4e4f-b0be-7f28dc16ed18",
   "metadata": {},
   "outputs": [
    {
     "data": {
      "text/plain": [
       "product\n",
       "credit_reporting    274742\n",
       "debt_collection      31685\n",
       "retail_banking       30665\n",
       "credit_card          23842\n",
       "loans                13440\n",
       "mortgage             12746\n",
       "Name: count, dtype: int64"
      ]
     },
     "execution_count": 71,
     "metadata": {},
     "output_type": "execute_result"
    }
   ],
   "source": [
    "df['product'].value_counts()"
   ]
  },
  {
   "cell_type": "code",
   "execution_count": 72,
   "id": "723024f0-0d95-40bb-a85e-349d5b5dc959",
   "metadata": {},
   "outputs": [
    {
     "data": {
      "text/plain": [
       "product\n",
       "credit_reporting       274742\n",
       "debt_collection         31685\n",
       "retail_banking          30665\n",
       "mortgages_and_loans     26186\n",
       "credit_card             23842\n",
       "Name: count, dtype: int64"
      ]
     },
     "execution_count": 72,
     "metadata": {},
     "output_type": "execute_result"
    }
   ],
   "source": [
    "#Mortgage and loans are the smallest. Since they're both types of loans, combine them.\n",
    "df['product'].replace({'mortgage': 'mortgages_and_loans',\n",
    "                       'loans': 'mortgages_and_loans'}, inplace=True)\n",
    "df['product'].value_counts()"
   ]
  },
  {
   "cell_type": "code",
   "execution_count": 73,
   "id": "f1f0f5fc-6b2e-4ab8-8c9c-322599573f90",
   "metadata": {},
   "outputs": [],
   "source": [
    "# Create new subsets of the data frame in each product category\n",
    "credit_reporting_df = df[df['product'] == 'credit_reporting']\n",
    "debt_collection_df = df[df['product'] == 'debt_collection']\n",
    "mortgages_and_loans_df = df[df['product'] == 'mortgages_and_loans']\n",
    "credit_card_df = df[df['product'] == 'credit_card']\n",
    "retail_banking_df = df[df['product'] == 'retail_banking']"
   ]
  },
  {
   "cell_type": "code",
   "execution_count": 74,
   "id": "d497301b-a4a6-4cc2-a6ec-ea40513da504",
   "metadata": {},
   "outputs": [],
   "source": [
    "#Concatenate all the narratives into a single string per class\n",
    "def concat_narratives(df):\n",
    "    # concat narratives\n",
    "    narr = ''\n",
    "    for i in range(len(df)):\n",
    "        narr += df.iloc[i]['narrative']\n",
    "    print('Finished Concatenation')\n",
    "    return narr"
   ]
  },
  {
   "cell_type": "code",
   "execution_count": 75,
   "id": "9fb8edf6-f739-4c4e-b82f-237e789ea084",
   "metadata": {},
   "outputs": [
    {
     "name": "stdout",
     "output_type": "stream",
     "text": [
      "Finished Concatenation\n"
     ]
    }
   ],
   "source": [
    "credit_reporting_text = concat_narratives(credit_reporting_df)\n",
    "credit_reporting_text_processed = process_narrative(credit_reporting_text)"
   ]
  },
  {
   "cell_type": "code",
   "execution_count": 76,
   "id": "c9dd3d40-9ae1-42a1-b898-a29ae1b1d661",
   "metadata": {},
   "outputs": [
    {
     "name": "stdout",
     "output_type": "stream",
     "text": [
      "Finished Concatenation\n"
     ]
    }
   ],
   "source": [
    "debt_collection_text = concat_narratives(debt_collection_df)\n",
    "debt_collection_text_processed = process_narrative(debt_collection_text)"
   ]
  },
  {
   "cell_type": "code",
   "execution_count": 77,
   "id": "af2f799d-8cfc-4902-95bc-eaafee9ae09c",
   "metadata": {},
   "outputs": [
    {
     "name": "stdout",
     "output_type": "stream",
     "text": [
      "Finished Concatenation\n"
     ]
    }
   ],
   "source": [
    "mortgages_and_loans_text = concat_narratives(mortgages_and_loans_df)\n",
    "mortgages_and_loans_text_processed = process_narrative(mortgages_and_loans_text)"
   ]
  },
  {
   "cell_type": "code",
   "execution_count": 78,
   "id": "118e24c9-4436-42e7-95fc-74776033d2cc",
   "metadata": {},
   "outputs": [
    {
     "name": "stdout",
     "output_type": "stream",
     "text": [
      "Finished Concatenation\n"
     ]
    }
   ],
   "source": [
    "credit_card_text = concat_narratives(credit_card_df)\n",
    "credit_card_text_processed = process_narrative(credit_card_text)"
   ]
  },
  {
   "cell_type": "code",
   "execution_count": 79,
   "id": "9f585f2a-86e7-485d-94cb-f2174105c326",
   "metadata": {},
   "outputs": [
    {
     "name": "stdout",
     "output_type": "stream",
     "text": [
      "Finished Concatenation\n"
     ]
    }
   ],
   "source": [
    "retail_banking_text = concat_narratives(retail_banking_df)\n",
    "retail_banking_text_processed = process_narrative(retail_banking_text)"
   ]
  },
  {
   "cell_type": "code",
   "execution_count": 81,
   "id": "029c88ce-85f2-48be-a921-4db21e62c45e",
   "metadata": {},
   "outputs": [],
   "source": [
    "#Saving the text files\n",
    "text_file = open(r'D:\\LEARNING\\WELLS FARGO\\NLP\\CFPB\\Data\\credit_reporting_text.txt', 'w')\n",
    "text_file.write(credit_reporting_text)\n",
    "text_file.close()"
   ]
  },
  {
   "cell_type": "code",
   "execution_count": 82,
   "id": "b929bb7e-7ac9-414e-a481-40fc46e232b3",
   "metadata": {},
   "outputs": [],
   "source": [
    "text_file = open(r'D:\\LEARNING\\WELLS FARGO\\NLP\\CFPB\\Data\\debt_collection_text.txt', 'w')\n",
    "text_file.write(debt_collection_text)\n",
    "text_file.close()"
   ]
  },
  {
   "cell_type": "code",
   "execution_count": 83,
   "id": "cdd6b84d-6d35-4269-87ab-ed808fab137b",
   "metadata": {},
   "outputs": [],
   "source": [
    "text_file = open(r'D:\\LEARNING\\WELLS FARGO\\NLP\\CFPB\\Data\\mortgages_and_loans_text.txt', 'w')\n",
    "mortgages_and_loans_text = mortgages_and_loans_text.replace('\\x82', '')\n",
    "text_file.write(mortgages_and_loans_text)\n",
    "text_file.close()"
   ]
  },
  {
   "cell_type": "code",
   "execution_count": 84,
   "id": "fca4d4c7-1b8b-42ae-99e2-41e59fc8d42f",
   "metadata": {},
   "outputs": [],
   "source": [
    "text_file = open(r'D:\\LEARNING\\WELLS FARGO\\NLP\\CFPB\\Data\\credit_card_text.txt', 'w')\n",
    "text_file.write(credit_card_text)\n",
    "text_file.close()"
   ]
  },
  {
   "cell_type": "code",
   "execution_count": 85,
   "id": "01a319d2-f8ef-4c20-9f30-ecb8ccd0472d",
   "metadata": {},
   "outputs": [],
   "source": [
    "text_file = open(r'D:\\LEARNING\\WELLS FARGO\\NLP\\CFPB\\Data\\retail_banking_text.txt', 'w')\n",
    "text_file.write(retail_banking_text)\n",
    "text_file.close()"
   ]
  },
  {
   "cell_type": "code",
   "execution_count": 86,
   "id": "aee7d4bb-6ca3-48c8-91ad-6f92ede8155e",
   "metadata": {},
   "outputs": [],
   "source": [
    "#Saving the processed text (lists) files"
   ]
  },
  {
   "cell_type": "code",
   "execution_count": 87,
   "id": "1f377228-dda4-4f51-ad0b-6cb5bdd22158",
   "metadata": {},
   "outputs": [],
   "source": [
    "temp = pd.DataFrame(credit_reporting_text_processed)\n",
    "temp.to_csv(r'D:\\LEARNING\\WELLS FARGO\\NLP\\CFPB\\Data\\credit_reporting_text_processed.csv')"
   ]
  },
  {
   "cell_type": "code",
   "execution_count": 88,
   "id": "a8c89d3c-4524-40f3-bb62-b5de1f0e3100",
   "metadata": {},
   "outputs": [],
   "source": [
    "temp = pd.DataFrame(debt_collection_text_processed)\n",
    "temp.to_csv(r'D:\\LEARNING\\WELLS FARGO\\NLP\\CFPB\\Data\\debt_collection_text_processed.csv')"
   ]
  },
  {
   "cell_type": "code",
   "execution_count": 89,
   "id": "c4e92742-4946-477d-93af-9401f132e499",
   "metadata": {},
   "outputs": [],
   "source": [
    "temp = pd.DataFrame(mortgages_and_loans_text_processed)\n",
    "temp.to_csv(r'D:\\LEARNING\\WELLS FARGO\\NLP\\CFPB\\Data\\mortgages_and_loans_text_processed.csv')"
   ]
  },
  {
   "cell_type": "code",
   "execution_count": 90,
   "id": "82717897-b319-4bf8-9bb2-bb9a08811847",
   "metadata": {},
   "outputs": [],
   "source": [
    "temp = pd.DataFrame(credit_card_text_processed)\n",
    "temp.to_csv(r'D:\\LEARNING\\WELLS FARGO\\NLP\\CFPB\\Data\\credit_card_text_processed.csv')"
   ]
  },
  {
   "cell_type": "code",
   "execution_count": 91,
   "id": "3e848a0e-ddbb-4047-9f21-2096f8b83434",
   "metadata": {},
   "outputs": [],
   "source": [
    "temp = pd.DataFrame(retail_banking_text_processed)\n",
    "temp.to_csv(r'D:\\LEARNING\\WELLS FARGO\\NLP\\CFPB\\Data\\retail_banking_text_processed.csv')"
   ]
  },
  {
   "cell_type": "code",
   "execution_count": 92,
   "id": "115ba00e-31ba-4ce0-9e6f-79d9720d9edc",
   "metadata": {},
   "outputs": [],
   "source": [
    "##### Checking the frequency distribution"
   ]
  },
  {
   "cell_type": "code",
   "execution_count": 93,
   "id": "9a4a3c8e-5697-4561-a7a6-5ac9ec976ae2",
   "metadata": {},
   "outputs": [
    {
     "data": {
      "text/plain": [
       "[('debt', 58768),\n",
       " ('credit', 45284),\n",
       " ('account', 36059),\n",
       " ('information', 24282),\n",
       " ('report', 23034),\n",
       " ('company', 21479),\n",
       " ('collection', 20944),\n",
       " ('consumer', 17379),\n",
       " ('received', 14866),\n",
       " ('never', 14156),\n",
       " ('reporting', 13884),\n",
       " ('letter', 13323),\n",
       " ('sent', 12801),\n",
       " ('also', 12384),\n",
       " ('would', 10763),\n",
       " ('amount', 10271),\n",
       " ('number', 9507),\n",
       " ('alleged', 9205),\n",
       " ('pay', 9179),\n",
       " ('called', 8800),\n",
       " ('agency', 8757),\n",
       " ('told', 8536),\n",
       " ('payment', 8432),\n",
       " ('name', 8337),\n",
       " ('phone', 8162),\n",
       " ('provide', 7943),\n",
       " ('please', 7939),\n",
       " ('call', 7920),\n",
       " ('accounts', 7784),\n",
       " ('paid', 7764)]"
      ]
     },
     "execution_count": 93,
     "metadata": {},
     "output_type": "execute_result"
    }
   ],
   "source": [
    "FreqDist(debt_collection_text_processed).most_common(30)"
   ]
  },
  {
   "cell_type": "code",
   "execution_count": 94,
   "id": "06830208-890e-43e9-978f-3dcb3a6ff330",
   "metadata": {},
   "outputs": [
    {
     "data": {
      "text/plain": [
       "[('credit', 624327),\n",
       " ('account', 472320),\n",
       " ('information', 408397),\n",
       " ('reporting', 403459),\n",
       " ('consumer', 394015),\n",
       " ('report', 384775),\n",
       " ('section', 307141),\n",
       " ('states', 192128),\n",
       " ('accounts', 167040),\n",
       " ('agency', 160952),\n",
       " ('also', 139537),\n",
       " ('without', 133534),\n",
       " ('xxxxxxxx', 132378),\n",
       " ('balance', 129061),\n",
       " ('rights', 127894),\n",
       " ('items', 122870),\n",
       " ('please', 118043),\n",
       " ('act', 116686),\n",
       " ('date', 116516),\n",
       " ('written', 116458),\n",
       " ('fair', 115488),\n",
       " ('violated', 115362),\n",
       " ('privacy', 108216),\n",
       " ('furnish', 106570),\n",
       " ('number', 97906),\n",
       " ('right', 94683),\n",
       " ('inaccurate', 92684),\n",
       " ('remove', 90596),\n",
       " ('identity', 87577),\n",
       " ('accordance', 86745)]"
      ]
     },
     "execution_count": 94,
     "metadata": {},
     "output_type": "execute_result"
    }
   ],
   "source": [
    "FreqDist(credit_reporting_text_processed).most_common(30)"
   ]
  },
  {
   "cell_type": "code",
   "execution_count": 95,
   "id": "f6fad070-335f-4b8e-86ee-d74ca1a261d6",
   "metadata": {},
   "outputs": [
    {
     "data": {
      "text/plain": [
       "[('card', 52995),\n",
       " ('credit', 49626),\n",
       " ('account', 40450),\n",
       " ('bank', 20984),\n",
       " ('payment', 18681),\n",
       " ('would', 18538),\n",
       " ('told', 15366),\n",
       " ('received', 15222),\n",
       " ('called', 15214),\n",
       " ('one', 15070),\n",
       " ('balance', 12247),\n",
       " ('back', 11611),\n",
       " ('time', 11589),\n",
       " ('never', 11502),\n",
       " ('made', 11062),\n",
       " ('said', 10416),\n",
       " ('charges', 10173),\n",
       " ('information', 10124),\n",
       " ('charge', 9999),\n",
       " ('dispute', 9723),\n",
       " ('call', 9672),\n",
       " ('company', 9506),\n",
       " ('get', 9097),\n",
       " ('number', 8952),\n",
       " ('pay', 8816),\n",
       " ('sent', 8720),\n",
       " ('due', 8651),\n",
       " ('could', 8584),\n",
       " ('interest', 8445),\n",
       " ('also', 8435)]"
      ]
     },
     "execution_count": 95,
     "metadata": {},
     "output_type": "execute_result"
    }
   ],
   "source": [
    "FreqDist(credit_card_text_processed).most_common(30)"
   ]
  },
  {
   "cell_type": "code",
   "execution_count": 96,
   "id": "29bcf9b3-83ff-4b98-8882-cca7b76aecd2",
   "metadata": {},
   "outputs": [
    {
     "data": {
      "text/plain": [
       "[('account', 93717),\n",
       " ('bank', 56758),\n",
       " ('money', 35786),\n",
       " ('would', 24313),\n",
       " ('told', 23058),\n",
       " ('check', 20811),\n",
       " ('funds', 20556),\n",
       " ('back', 18953),\n",
       " ('called', 17988),\n",
       " ('received', 16977),\n",
       " ('said', 15811),\n",
       " ('card', 15281),\n",
       " ('sent', 14369),\n",
       " ('fraud', 14190),\n",
       " ('get', 13838),\n",
       " ('number', 13654),\n",
       " ('time', 13198),\n",
       " ('phone', 12985),\n",
       " ('could', 12929),\n",
       " ('call', 12795),\n",
       " ('days', 12718),\n",
       " ('chase', 12380),\n",
       " ('email', 12370),\n",
       " ('one', 12359),\n",
       " ('information', 11905),\n",
       " ('checking', 11831),\n",
       " ('never', 11696),\n",
       " ('also', 11107),\n",
       " ('made', 11096),\n",
       " ('transfer', 10904)]"
      ]
     },
     "execution_count": 96,
     "metadata": {},
     "output_type": "execute_result"
    }
   ],
   "source": [
    "FreqDist(retail_banking_text_processed).most_common(30)"
   ]
  },
  {
   "cell_type": "code",
   "execution_count": 97,
   "id": "21999e03-8246-49e4-9bc1-248c8e6abae4",
   "metadata": {},
   "outputs": [
    {
     "data": {
      "text/plain": [
       "[('loan', 47614),\n",
       " ('payment', 36156),\n",
       " ('mortgage', 30686),\n",
       " ('would', 27354),\n",
       " ('payments', 24645),\n",
       " ('account', 23448),\n",
       " ('told', 20999),\n",
       " ('credit', 20702),\n",
       " ('received', 17914),\n",
       " ('time', 16517),\n",
       " ('company', 15642),\n",
       " ('called', 14782),\n",
       " ('pay', 14426),\n",
       " ('bank', 14409),\n",
       " ('get', 14123),\n",
       " ('sent', 13836),\n",
       " ('due', 13734),\n",
       " ('back', 13703),\n",
       " ('amount', 13473),\n",
       " ('information', 13321),\n",
       " ('paid', 12944),\n",
       " ('made', 12721),\n",
       " ('also', 11943),\n",
       " ('home', 11890),\n",
       " ('call', 11745),\n",
       " ('never', 11741),\n",
       " ('said', 11730),\n",
       " ('could', 10763),\n",
       " ('interest', 10285),\n",
       " ('since', 9772)]"
      ]
     },
     "execution_count": 97,
     "metadata": {},
     "output_type": "execute_result"
    }
   ],
   "source": [
    "FreqDist(mortgages_and_loans_text_processed).most_common(30)"
   ]
  },
  {
   "cell_type": "code",
   "execution_count": null,
   "id": "c97ad47b-72b1-4c3d-960f-20f2140d48b4",
   "metadata": {},
   "outputs": [],
   "source": []
  }
 ],
 "metadata": {
  "kernelspec": {
   "display_name": "Python 3 (ipykernel)",
   "language": "python",
   "name": "python3"
  },
  "language_info": {
   "codemirror_mode": {
    "name": "ipython",
    "version": 3
   },
   "file_extension": ".py",
   "mimetype": "text/x-python",
   "name": "python",
   "nbconvert_exporter": "python",
   "pygments_lexer": "ipython3",
   "version": "3.7.0"
  }
 },
 "nbformat": 4,
 "nbformat_minor": 5
}
