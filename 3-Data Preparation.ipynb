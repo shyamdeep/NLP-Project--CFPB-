{
 "cells": [
  {
   "cell_type": "code",
   "execution_count": 1,
   "id": "d1e76338",
   "metadata": {},
   "outputs": [],
   "source": [
    "#import the libraries\n",
    "import pandas as pd\n",
    "import numpy as np\n",
    "import nltk\n",
    "from nltk.corpus import stopwords\n",
    "from nltk import word_tokenize, FreqDist\n",
    "from nltk.stem.wordnet import WordNetLemmatizer\n",
    "import string\n",
    "import plotly\n",
    "import plotly.graph_objects as go\n",
    "import plotly.express as px\n",
    "from sklearn.feature_extraction.text import TfidfVectorizer, CountVectorizer"
   ]
  },
  {
   "cell_type": "code",
   "execution_count": 2,
   "id": "dd5d4ae0",
   "metadata": {},
   "outputs": [],
   "source": [
    "# importing the data and filtering the required columns\n",
    "\n",
    "df = pd.read_csv(r\"D:\\LEARNING\\WELLS FARGO\\NLP\\CFPB\\Data\\complaints-2023-08-29_03_42.csv\")\n",
    "df = df[['Product','Consumer complaint narrative']]\n",
    "df = df.rename(columns={\"Product\": \"product\", \"Consumer complaint narrative\": \"narrative\"})\n",
    "df['product'].replace({'Credit reporting, credit repair services, or other personal consumer reports': 'credit_reporting',\n",
    "                       'Debt collection': 'debt_collection',\n",
    "                       'Credit card or prepaid card': 'credit_card',\n",
    "                       'Mortgage': 'mortgages_and_loans',\n",
    "                       'Checking or savings account': 'retail_banking',\n",
    "                       'Money transfer, virtual currency, or money service': 'retail_banking',\n",
    "                       'Vehicle loan or lease': 'mortgages_and_loans',\n",
    "                       'Payday loan, title loan, or personal loan': 'mortgages_and_loans',\n",
    "                       'Student loan': 'mortgages_and_loans'}, inplace=True)"
   ]
  },
  {
   "cell_type": "code",
   "execution_count": 3,
   "id": "073b7160",
   "metadata": {},
   "outputs": [
    {
     "data": {
      "text/plain": [
       "(387120, 2)"
      ]
     },
     "execution_count": 3,
     "metadata": {},
     "output_type": "execute_result"
    }
   ],
   "source": [
    "#Removing the rows having nan values in narrative column\n",
    "df = df[df['narrative'].notna()]\n",
    "df =df.reset_index(drop=True)\n",
    "df.shape"
   ]
  },
  {
   "cell_type": "code",
   "execution_count": 4,
   "id": "6eb4ef17",
   "metadata": {},
   "outputs": [
    {
     "data": {
      "text/html": [
       "<div>\n",
       "<style scoped>\n",
       "    .dataframe tbody tr th:only-of-type {\n",
       "        vertical-align: middle;\n",
       "    }\n",
       "\n",
       "    .dataframe tbody tr th {\n",
       "        vertical-align: top;\n",
       "    }\n",
       "\n",
       "    .dataframe thead th {\n",
       "        text-align: right;\n",
       "    }\n",
       "</style>\n",
       "<table border=\"1\" class=\"dataframe\">\n",
       "  <thead>\n",
       "    <tr style=\"text-align: right;\">\n",
       "      <th></th>\n",
       "      <th>product</th>\n",
       "      <th>narrative</th>\n",
       "    </tr>\n",
       "  </thead>\n",
       "  <tbody>\n",
       "    <tr>\n",
       "      <th>0</th>\n",
       "      <td>credit_reporting</td>\n",
       "      <td>Hi I am submitting this XXXX XXXX this isn't a...</td>\n",
       "    </tr>\n",
       "    <tr>\n",
       "      <th>1</th>\n",
       "      <td>mortgages_and_loans</td>\n",
       "      <td>I applied for, Again for a Pre-approval on a P...</td>\n",
       "    </tr>\n",
       "    <tr>\n",
       "      <th>2</th>\n",
       "      <td>credit_reporting</td>\n",
       "      <td>there investigation found that the information...</td>\n",
       "    </tr>\n",
       "    <tr>\n",
       "      <th>3</th>\n",
       "      <td>credit_reporting</td>\n",
       "      <td>In accordance with the fair credit reporting a...</td>\n",
       "    </tr>\n",
       "    <tr>\n",
       "      <th>4</th>\n",
       "      <td>debt_collection</td>\n",
       "      <td>Address of credit reporting company XXXX XXXX ...</td>\n",
       "    </tr>\n",
       "  </tbody>\n",
       "</table>\n",
       "</div>"
      ],
      "text/plain": [
       "               product                                          narrative\n",
       "0     credit_reporting  Hi I am submitting this XXXX XXXX this isn't a...\n",
       "1  mortgages_and_loans  I applied for, Again for a Pre-approval on a P...\n",
       "2     credit_reporting  there investigation found that the information...\n",
       "3     credit_reporting  In accordance with the fair credit reporting a...\n",
       "4      debt_collection  Address of credit reporting company XXXX XXXX ..."
      ]
     },
     "execution_count": 4,
     "metadata": {},
     "output_type": "execute_result"
    }
   ],
   "source": [
    "df.head()"
   ]
  },
  {
   "cell_type": "code",
   "execution_count": 5,
   "id": "88f2db1e",
   "metadata": {},
   "outputs": [
    {
     "data": {
      "text/plain": [
       "'In accordance with the fair credit reporting act XXXX XXXX XXXX has violated my rights 15 U.S.C 1681 section 602 A. States I have the right to privacy. 15 U.S.C 1681 section 604 A section 2 : It also states a consumer reporting agency can not furnish a account without my written instructions 15 U.S.C 166b A Creditor May not treat a payment on a credit card account under and open and consumer credit plan as late for any reason.'"
      ]
     },
     "execution_count": 5,
     "metadata": {},
     "output_type": "execute_result"
    }
   ],
   "source": [
    "df.loc[3]['narrative']"
   ]
  },
  {
   "cell_type": "code",
   "execution_count": 6,
   "id": "4120d5e9",
   "metadata": {},
   "outputs": [
    {
     "data": {
      "text/plain": [
       "387120"
      ]
     },
     "execution_count": 6,
     "metadata": {},
     "output_type": "execute_result"
    }
   ],
   "source": [
    "len(df)"
   ]
  },
  {
   "cell_type": "code",
   "execution_count": 7,
   "id": "aac7be89",
   "metadata": {},
   "outputs": [],
   "source": [
    "#remove stopwords, tokenize and lemmatize\n",
    "stopwords_list = stopwords.words('english') + list(string.punctuation)\n",
    "stopwords_list += [\"''\", '\"\"', '...', '``']\n",
    "stopwords_list += ['--', 'xxxx']"
   ]
  },
  {
   "cell_type": "code",
   "execution_count": 8,
   "id": "70265864",
   "metadata": {},
   "outputs": [],
   "source": [
    "# function to tokenize data and remove stopwords\n",
    "def process_narrative(narrative):\n",
    "    tokens = nltk.word_tokenize(narrative)\n",
    "    stopwords_removed = [token.lower() for token in tokens if token.lower() not in stopwords_list]\n",
    "    \n",
    "    # adding line to remove all tokens with numbers and punctuation\n",
    "    stopwords_punc_and_numbers_removed = [word for word in stopwords_removed if word.isalpha()]\n",
    "    \n",
    "    return stopwords_punc_and_numbers_removed\n",
    "\n",
    "\n",
    "# function to concat words (used in function below)\n",
    "def concat_words(list_of_words):\n",
    "    # remove any NaN's\n",
    "    # list_of_words = [i for i in list if i is not np.nan]\n",
    "\n",
    "    concat_words = ''\n",
    "    for word in list_of_words:\n",
    "        concat_words += word + ' '\n",
    "    return concat_words.strip()\n",
    "\n",
    "# function to lemmatize words and merge each complaint into a single space-separated string\n",
    "\n",
    "lemm = WordNetLemmatizer()\n",
    "\n",
    "def make_lemma_and_concat(list_of_words):\n",
    "    # remove any NaN's\n",
    "    list_of_words = [i for i in list_of_words if i is not np.nan]\n",
    "    \n",
    "    # lemmatize each word\n",
    "    lemmatized_list = []\n",
    "    for idx, word in enumerate(list_of_words):\n",
    "        lemmatized_list.append(lemm.lemmatize(word))\n",
    "    \n",
    "    # make the list into a single string with the words separated by ' '\n",
    "    concatenated_string = concat_words(lemmatized_list)\n",
    "    return concatenated_string"
   ]
  },
  {
   "cell_type": "code",
   "execution_count": 9,
   "id": "16a5cbec",
   "metadata": {},
   "outputs": [],
   "source": [
    "df['product'] = df['product'].astype(str)\n",
    "df['narrative'] = df['narrative'].astype(str)"
   ]
  },
  {
   "cell_type": "code",
   "execution_count": 10,
   "id": "99cc3321",
   "metadata": {},
   "outputs": [
    {
     "name": "stdout",
     "output_type": "stream",
     "text": [
      "Finished line number 0\n",
      "Finished line number 3000\n",
      "Finished line number 6000\n",
      "Finished line number 9000\n",
      "Finished line number 12000\n",
      "Finished line number 15000\n",
      "Finished line number 18000\n",
      "Finished line number 21000\n",
      "Finished line number 24000\n",
      "Finished line number 27000\n",
      "Finished line number 30000\n",
      "Finished line number 33000\n",
      "Finished line number 36000\n",
      "Finished line number 39000\n",
      "Finished line number 42000\n",
      "Finished line number 45000\n",
      "Finished line number 48000\n",
      "Finished line number 51000\n",
      "Finished line number 54000\n",
      "Finished line number 57000\n",
      "Finished line number 60000\n",
      "Finished line number 63000\n",
      "Finished line number 66000\n",
      "Finished line number 69000\n",
      "Finished line number 72000\n",
      "Finished line number 75000\n",
      "Finished line number 78000\n",
      "Finished line number 81000\n",
      "Finished line number 84000\n",
      "Finished line number 87000\n",
      "Finished line number 90000\n",
      "Finished line number 93000\n",
      "Finished line number 96000\n",
      "Finished line number 99000\n",
      "Finished line number 102000\n",
      "Finished line number 105000\n",
      "Finished line number 108000\n",
      "Finished line number 111000\n",
      "Finished line number 114000\n",
      "Finished line number 117000\n",
      "Finished line number 120000\n",
      "Finished line number 123000\n",
      "Finished line number 126000\n",
      "Finished line number 129000\n",
      "Finished line number 132000\n",
      "Finished line number 135000\n",
      "Finished line number 138000\n",
      "Finished line number 141000\n",
      "Finished line number 144000\n",
      "Finished line number 147000\n",
      "Finished line number 150000\n",
      "Finished line number 153000\n",
      "Finished line number 156000\n",
      "Finished line number 159000\n",
      "Finished line number 162000\n",
      "Finished line number 165000\n",
      "Finished line number 168000\n",
      "Finished line number 171000\n",
      "Finished line number 174000\n",
      "Finished line number 177000\n",
      "Finished line number 180000\n",
      "Finished line number 183000\n",
      "Finished line number 186000\n",
      "Finished line number 189000\n",
      "Finished line number 192000\n",
      "Finished line number 195000\n",
      "Finished line number 198000\n",
      "Finished line number 201000\n",
      "Finished line number 204000\n",
      "Finished line number 207000\n",
      "Finished line number 210000\n",
      "Finished line number 213000\n",
      "Finished line number 216000\n",
      "Finished line number 219000\n",
      "Finished line number 222000\n",
      "Finished line number 225000\n",
      "Finished line number 228000\n",
      "Finished line number 231000\n",
      "Finished line number 234000\n",
      "Finished line number 237000\n",
      "Finished line number 240000\n",
      "Finished line number 243000\n",
      "Finished line number 246000\n",
      "Finished line number 249000\n",
      "Finished line number 252000\n",
      "Finished line number 255000\n",
      "Finished line number 258000\n",
      "Finished line number 261000\n",
      "Finished line number 264000\n",
      "Finished line number 267000\n",
      "Finished line number 270000\n",
      "Finished line number 273000\n",
      "Finished line number 276000\n",
      "Finished line number 279000\n",
      "Finished line number 282000\n",
      "Finished line number 285000\n",
      "Finished line number 288000\n",
      "Finished line number 291000\n",
      "Finished line number 294000\n",
      "Finished line number 297000\n",
      "Finished line number 300000\n",
      "Finished line number 303000\n",
      "Finished line number 306000\n",
      "Finished line number 309000\n",
      "Finished line number 312000\n",
      "Finished line number 315000\n",
      "Finished line number 318000\n",
      "Finished line number 321000\n",
      "Finished line number 324000\n",
      "Finished line number 327000\n",
      "Finished line number 330000\n",
      "Finished line number 333000\n",
      "Finished line number 336000\n",
      "Finished line number 339000\n",
      "Finished line number 342000\n",
      "Finished line number 345000\n",
      "Finished line number 348000\n",
      "Finished line number 351000\n",
      "Finished line number 354000\n",
      "Finished line number 357000\n",
      "Finished line number 360000\n",
      "Finished line number 363000\n",
      "Finished line number 366000\n",
      "Finished line number 369000\n",
      "Finished line number 372000\n",
      "Finished line number 375000\n",
      "Finished line number 378000\n",
      "Finished line number 381000\n",
      "Finished line number 384000\n",
      "Finished line number 387000\n"
     ]
    },
    {
     "data": {
      "text/html": [
       "<div>\n",
       "<style scoped>\n",
       "    .dataframe tbody tr th:only-of-type {\n",
       "        vertical-align: middle;\n",
       "    }\n",
       "\n",
       "    .dataframe tbody tr th {\n",
       "        vertical-align: top;\n",
       "    }\n",
       "\n",
       "    .dataframe thead th {\n",
       "        text-align: right;\n",
       "    }\n",
       "</style>\n",
       "<table border=\"1\" class=\"dataframe\">\n",
       "  <thead>\n",
       "    <tr style=\"text-align: right;\">\n",
       "      <th></th>\n",
       "      <th>product</th>\n",
       "      <th>narrative</th>\n",
       "    </tr>\n",
       "  </thead>\n",
       "  <tbody>\n",
       "    <tr>\n",
       "      <th>0</th>\n",
       "      <td>credit_reporting</td>\n",
       "      <td>hi submitting influence third party transunion...</td>\n",
       "    </tr>\n",
       "    <tr>\n",
       "      <th>1</th>\n",
       "      <td>mortgages_and_loans</td>\n",
       "      <td>applied property order able view several prope...</td>\n",
       "    </tr>\n",
       "    <tr>\n",
       "      <th>2</th>\n",
       "      <td>credit_reporting</td>\n",
       "      <td>investigation found information disputed inacc...</td>\n",
       "    </tr>\n",
       "    <tr>\n",
       "      <th>3</th>\n",
       "      <td>credit_reporting</td>\n",
       "      <td>accordance fair credit reporting act violated ...</td>\n",
       "    </tr>\n",
       "    <tr>\n",
       "      <th>4</th>\n",
       "      <td>debt_collection</td>\n",
       "      <td>address credit reporting company tx dear cfpb ...</td>\n",
       "    </tr>\n",
       "  </tbody>\n",
       "</table>\n",
       "</div>"
      ],
      "text/plain": [
       "               product                                          narrative\n",
       "0     credit_reporting  hi submitting influence third party transunion...\n",
       "1  mortgages_and_loans  applied property order able view several prope...\n",
       "2     credit_reporting  investigation found information disputed inacc...\n",
       "3     credit_reporting  accordance fair credit reporting act violated ...\n",
       "4      debt_collection  address credit reporting company tx dear cfpb ..."
      ]
     },
     "execution_count": 10,
     "metadata": {},
     "output_type": "execute_result"
    }
   ],
   "source": [
    "#Prepare dataframe for modeling\n",
    "for i in range(len(df)):\n",
    "    processed_narr = process_narrative(df['narrative'].loc[i])\n",
    "    narr = make_lemma_and_concat(processed_narr)\n",
    "    df['narrative'].loc[i] = narr\n",
    "    if i % 3000 == 0:\n",
    "        print(f'Finished line number {i}')\n",
    "df.head()"
   ]
  },
  {
   "cell_type": "code",
   "execution_count": 16,
   "id": "abaa6e14",
   "metadata": {},
   "outputs": [
    {
     "data": {
      "text/plain": [
       "21306"
      ]
     },
     "execution_count": 16,
     "metadata": {},
     "output_type": "execute_result"
    }
   ],
   "source": [
    "int(df['narrative'].astype(bytes).str.len().max())"
   ]
  },
  {
   "cell_type": "code",
   "execution_count": 17,
   "id": "0481ed44",
   "metadata": {},
   "outputs": [],
   "source": [
    "#Save dataframe as csv\n",
    "df.to_csv(r'D:\\LEARNING\\WELLS FARGO\\NLP\\CFPB\\Data\\complaints_processed.csv')"
   ]
  },
  {
   "cell_type": "code",
   "execution_count": null,
   "id": "5e841d1a",
   "metadata": {},
   "outputs": [],
   "source": []
  }
 ],
 "metadata": {
  "kernelspec": {
   "display_name": "Python (GPU)",
   "language": "python",
   "name": "gpu_env"
  },
  "language_info": {
   "codemirror_mode": {
    "name": "ipython",
    "version": 3
   },
   "file_extension": ".py",
   "mimetype": "text/x-python",
   "name": "python",
   "nbconvert_exporter": "python",
   "pygments_lexer": "ipython3",
   "version": "3.7.0"
  }
 },
 "nbformat": 4,
 "nbformat_minor": 5
}
