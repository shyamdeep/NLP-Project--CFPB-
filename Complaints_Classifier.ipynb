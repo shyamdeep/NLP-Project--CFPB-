{
 "cells": [
  {
   "cell_type": "code",
   "execution_count": 1,
   "id": "5da59f1d",
   "metadata": {},
   "outputs": [],
   "source": [
    "#Import the libraries\n",
    "\n",
    "import numpy as np\n",
    "import pandas as pd\n",
    "from sklearn.feature_extraction.text import TfidfVectorizer\n",
    "import sklearn.feature_extraction.text as text\n",
    "from sklearn.metrics import accuracy_score, classification_report\n",
    "from sklearn import model_selection, preprocessing, linear_model, naive_bayes, metrics, svm\n",
    "from sklearn.naive_bayes import MultinomialNB\n",
    "from sklearn.linear_model import LogisticRegression\n",
    "from sklearn.ensemble import RandomForestClassifier\n",
    "from sklearn.ensemble import GradientBoostingClassifier\n",
    "from sklearn.svm import LinearSVC\n",
    "from sklearn.model_selection import cross_val_score\n",
    "from sklearn.model_selection import train_test_split\n",
    "from sklearn.pipeline import Pipeline\n",
    "\n",
    "from textblob import TextBlob\n",
    "from nltk.stem import PorterStemmer,SnowballStemmer\n",
    "from textblob import Word\n",
    "from sklearn.feature_extraction.text import CountVectorizer,TfidfVectorizer\n",
    "from nltk.corpus import stopwords\n",
    "from nltk.tokenize import sent_tokenize, word_tokenize\n",
    "from nltk.tokenize.toktok import ToktokTokenizer\n",
    "\n",
    "from io import StringIO\n",
    "import os\n",
    "import string\n",
    "import gensim\n",
    "from gensim.models import Word2Vec\n",
    "import itertools\n",
    "import scipy\n",
    "from scipy import spatial\n",
    "import seaborn as sns\n",
    "import matplotlib.pyplot as plt\n",
    "import re\n",
    "import nltk\n",
    "tokenizer = ToktokTokenizer()\n",
    "stopword_list = nltk.corpus.stopwords.words('english')\n",
    "from nltk import word_tokenize, FreqDist\n",
    "import warnings\n",
    "warnings.filterwarnings(\"ignore\")"
   ]
  },
  {
   "cell_type": "code",
   "execution_count": 2,
   "id": "1c3e5ad3",
   "metadata": {},
   "outputs": [],
   "source": [
    "# Import the dataset\n",
    "df = pd.read_csv(r\"D:\\LEARNING\\WELLS FARGO\\NLP\\CFPB\\Data\\complaints-2023-08-29_03_42.csv\")"
   ]
  },
  {
   "cell_type": "code",
   "execution_count": 3,
   "id": "c8be4c7e",
   "metadata": {},
   "outputs": [
    {
     "name": "stdout",
     "output_type": "stream",
     "text": [
      "<class 'pandas.core.frame.DataFrame'>\n",
      "RangeIndex: 921585 entries, 0 to 921584\n",
      "Data columns (total 18 columns):\n",
      " #   Column                        Non-Null Count   Dtype  \n",
      "---  ------                        --------------   -----  \n",
      " 0   Date received                 921585 non-null  object \n",
      " 1   Product                       921585 non-null  object \n",
      " 2   Sub-product                   921585 non-null  object \n",
      " 3   Issue                         921585 non-null  object \n",
      " 4   Sub-issue                     921585 non-null  object \n",
      " 5   Consumer complaint narrative  387120 non-null  object \n",
      " 6   Company public response       921585 non-null  object \n",
      " 7   Company                       921585 non-null  object \n",
      " 8   State                         921585 non-null  object \n",
      " 9   ZIP code                      921585 non-null  object \n",
      " 10  Tags                          921585 non-null  object \n",
      " 11  Consumer consent provided?    880274 non-null  object \n",
      " 12  Submitted via                 921585 non-null  object \n",
      " 13  Date sent to company          921585 non-null  object \n",
      " 14  Company response to consumer  921585 non-null  object \n",
      " 15  Timely response?              921585 non-null  object \n",
      " 16  Consumer disputed?            0 non-null       float64\n",
      " 17  Complaint ID                  921585 non-null  int64  \n",
      "dtypes: float64(1), int64(1), object(16)\n",
      "memory usage: 126.6+ MB\n"
     ]
    }
   ],
   "source": [
    "df.info()"
   ]
  },
  {
   "cell_type": "code",
   "execution_count": 4,
   "id": "48fa91f1",
   "metadata": {},
   "outputs": [
    {
     "data": {
      "text/html": [
       "<div>\n",
       "<style scoped>\n",
       "    .dataframe tbody tr th:only-of-type {\n",
       "        vertical-align: middle;\n",
       "    }\n",
       "\n",
       "    .dataframe tbody tr th {\n",
       "        vertical-align: top;\n",
       "    }\n",
       "\n",
       "    .dataframe thead th {\n",
       "        text-align: right;\n",
       "    }\n",
       "</style>\n",
       "<table border=\"1\" class=\"dataframe\">\n",
       "  <thead>\n",
       "    <tr style=\"text-align: right;\">\n",
       "      <th></th>\n",
       "      <th>Date received</th>\n",
       "      <th>Product</th>\n",
       "      <th>Sub-product</th>\n",
       "      <th>Issue</th>\n",
       "      <th>Sub-issue</th>\n",
       "      <th>Consumer complaint narrative</th>\n",
       "      <th>Company public response</th>\n",
       "      <th>Company</th>\n",
       "      <th>State</th>\n",
       "      <th>ZIP code</th>\n",
       "      <th>Tags</th>\n",
       "      <th>Consumer consent provided?</th>\n",
       "      <th>Submitted via</th>\n",
       "      <th>Date sent to company</th>\n",
       "      <th>Company response to consumer</th>\n",
       "      <th>Timely response?</th>\n",
       "      <th>Consumer disputed?</th>\n",
       "      <th>Complaint ID</th>\n",
       "    </tr>\n",
       "  </thead>\n",
       "  <tbody>\n",
       "    <tr>\n",
       "      <th>0</th>\n",
       "      <td>02/06/23</td>\n",
       "      <td>Mortgage</td>\n",
       "      <td>Conventional home mortgage</td>\n",
       "      <td>Struggling to pay mortgage</td>\n",
       "      <td>None</td>\n",
       "      <td>NaN</td>\n",
       "      <td>Company has responded to the consumer and the ...</td>\n",
       "      <td>WELLS FARGO &amp; COMPANY</td>\n",
       "      <td>MA</td>\n",
       "      <td>01570</td>\n",
       "      <td>Older American</td>\n",
       "      <td>Consent not provided</td>\n",
       "      <td>Web</td>\n",
       "      <td>02/06/23</td>\n",
       "      <td>Closed with explanation</td>\n",
       "      <td>Yes</td>\n",
       "      <td>NaN</td>\n",
       "      <td>6521596</td>\n",
       "    </tr>\n",
       "    <tr>\n",
       "      <th>1</th>\n",
       "      <td>03/26/23</td>\n",
       "      <td>Credit reporting, credit repair services, or o...</td>\n",
       "      <td>Credit reporting</td>\n",
       "      <td>Incorrect information on your report</td>\n",
       "      <td>Personal information incorrect</td>\n",
       "      <td>NaN</td>\n",
       "      <td>None</td>\n",
       "      <td>EQUIFAX, INC.</td>\n",
       "      <td>TX</td>\n",
       "      <td>75002</td>\n",
       "      <td>None</td>\n",
       "      <td>Consent not provided</td>\n",
       "      <td>Web</td>\n",
       "      <td>03/26/23</td>\n",
       "      <td>Closed with explanation</td>\n",
       "      <td>Yes</td>\n",
       "      <td>NaN</td>\n",
       "      <td>6751978</td>\n",
       "    </tr>\n",
       "    <tr>\n",
       "      <th>2</th>\n",
       "      <td>09/13/22</td>\n",
       "      <td>Credit reporting, credit repair services, or o...</td>\n",
       "      <td>Credit reporting</td>\n",
       "      <td>Incorrect information on your report</td>\n",
       "      <td>Information belongs to someone else</td>\n",
       "      <td>Hi I am submitting this XXXX XXXX this isn't a...</td>\n",
       "      <td>Company has responded to the consumer and the ...</td>\n",
       "      <td>TRANSUNION INTERMEDIATE HOLDINGS, INC.</td>\n",
       "      <td>IL</td>\n",
       "      <td>60586</td>\n",
       "      <td>None</td>\n",
       "      <td>Consent provided</td>\n",
       "      <td>Web</td>\n",
       "      <td>09/13/22</td>\n",
       "      <td>Closed with non-monetary relief</td>\n",
       "      <td>Yes</td>\n",
       "      <td>NaN</td>\n",
       "      <td>5978090</td>\n",
       "    </tr>\n",
       "    <tr>\n",
       "      <th>3</th>\n",
       "      <td>03/29/23</td>\n",
       "      <td>Mortgage</td>\n",
       "      <td>Other type of mortgage</td>\n",
       "      <td>Applying for a mortgage or refinancing an exis...</td>\n",
       "      <td>None</td>\n",
       "      <td>I applied for, Again for a Pre-approval on a P...</td>\n",
       "      <td>Company has responded to the consumer and the ...</td>\n",
       "      <td>BANK OF AMERICA, NATIONAL ASSOCIATION</td>\n",
       "      <td>PA</td>\n",
       "      <td>XXXXX</td>\n",
       "      <td>None</td>\n",
       "      <td>Consent provided</td>\n",
       "      <td>Web</td>\n",
       "      <td>03/29/23</td>\n",
       "      <td>Closed with explanation</td>\n",
       "      <td>Yes</td>\n",
       "      <td>NaN</td>\n",
       "      <td>6762421</td>\n",
       "    </tr>\n",
       "    <tr>\n",
       "      <th>4</th>\n",
       "      <td>03/28/23</td>\n",
       "      <td>Credit reporting, credit repair services, or o...</td>\n",
       "      <td>Credit reporting</td>\n",
       "      <td>Problem with a credit reporting company's inve...</td>\n",
       "      <td>Problem with personal statement of dispute</td>\n",
       "      <td>there investigation found that the information...</td>\n",
       "      <td>Company has responded to the consumer and the ...</td>\n",
       "      <td>Experian Information Solutions Inc.</td>\n",
       "      <td>VA</td>\n",
       "      <td>22193</td>\n",
       "      <td>None</td>\n",
       "      <td>Consent provided</td>\n",
       "      <td>Web</td>\n",
       "      <td>03/28/23</td>\n",
       "      <td>Closed with non-monetary relief</td>\n",
       "      <td>Yes</td>\n",
       "      <td>NaN</td>\n",
       "      <td>6765663</td>\n",
       "    </tr>\n",
       "  </tbody>\n",
       "</table>\n",
       "</div>"
      ],
      "text/plain": [
       "  Date received                                            Product  \\\n",
       "0      02/06/23                                           Mortgage   \n",
       "1      03/26/23  Credit reporting, credit repair services, or o...   \n",
       "2      09/13/22  Credit reporting, credit repair services, or o...   \n",
       "3      03/29/23                                           Mortgage   \n",
       "4      03/28/23  Credit reporting, credit repair services, or o...   \n",
       "\n",
       "                  Sub-product  \\\n",
       "0  Conventional home mortgage   \n",
       "1            Credit reporting   \n",
       "2            Credit reporting   \n",
       "3      Other type of mortgage   \n",
       "4            Credit reporting   \n",
       "\n",
       "                                               Issue  \\\n",
       "0                         Struggling to pay mortgage   \n",
       "1               Incorrect information on your report   \n",
       "2               Incorrect information on your report   \n",
       "3  Applying for a mortgage or refinancing an exis...   \n",
       "4  Problem with a credit reporting company's inve...   \n",
       "\n",
       "                                    Sub-issue  \\\n",
       "0                                        None   \n",
       "1              Personal information incorrect   \n",
       "2         Information belongs to someone else   \n",
       "3                                        None   \n",
       "4  Problem with personal statement of dispute   \n",
       "\n",
       "                        Consumer complaint narrative  \\\n",
       "0                                                NaN   \n",
       "1                                                NaN   \n",
       "2  Hi I am submitting this XXXX XXXX this isn't a...   \n",
       "3  I applied for, Again for a Pre-approval on a P...   \n",
       "4  there investigation found that the information...   \n",
       "\n",
       "                             Company public response  \\\n",
       "0  Company has responded to the consumer and the ...   \n",
       "1                                               None   \n",
       "2  Company has responded to the consumer and the ...   \n",
       "3  Company has responded to the consumer and the ...   \n",
       "4  Company has responded to the consumer and the ...   \n",
       "\n",
       "                                  Company State ZIP code            Tags  \\\n",
       "0                   WELLS FARGO & COMPANY    MA    01570  Older American   \n",
       "1                           EQUIFAX, INC.    TX    75002            None   \n",
       "2  TRANSUNION INTERMEDIATE HOLDINGS, INC.    IL    60586            None   \n",
       "3   BANK OF AMERICA, NATIONAL ASSOCIATION    PA    XXXXX            None   \n",
       "4     Experian Information Solutions Inc.    VA    22193            None   \n",
       "\n",
       "  Consumer consent provided? Submitted via Date sent to company  \\\n",
       "0       Consent not provided           Web             02/06/23   \n",
       "1       Consent not provided           Web             03/26/23   \n",
       "2           Consent provided           Web             09/13/22   \n",
       "3           Consent provided           Web             03/29/23   \n",
       "4           Consent provided           Web             03/28/23   \n",
       "\n",
       "      Company response to consumer Timely response?  Consumer disputed?  \\\n",
       "0          Closed with explanation              Yes                 NaN   \n",
       "1          Closed with explanation              Yes                 NaN   \n",
       "2  Closed with non-monetary relief              Yes                 NaN   \n",
       "3          Closed with explanation              Yes                 NaN   \n",
       "4  Closed with non-monetary relief              Yes                 NaN   \n",
       "\n",
       "   Complaint ID  \n",
       "0       6521596  \n",
       "1       6751978  \n",
       "2       5978090  \n",
       "3       6762421  \n",
       "4       6765663  "
      ]
     },
     "execution_count": 4,
     "metadata": {},
     "output_type": "execute_result"
    }
   ],
   "source": [
    "df.head()"
   ]
  },
  {
   "cell_type": "code",
   "execution_count": 5,
   "id": "cbbc4949",
   "metadata": {},
   "outputs": [],
   "source": [
    "# Filtering the relevant columns\n",
    "df = df[['Product', 'Sub-product', 'Issue', 'Sub-issue', 'Consumer complaint narrative']]"
   ]
  },
  {
   "cell_type": "code",
   "execution_count": 6,
   "id": "d20a12a1",
   "metadata": {},
   "outputs": [],
   "source": [
    "#Renaming the filtered columns\n",
    "df = df.rename(columns={\"Product\": \"product\", \"Sub-product\": \"subproduct\", \"Issue\": \"issue\", \"Sub-issue\": \"subissue\", \"Consumer complaint narrative\": \"narrative\"})"
   ]
  },
  {
   "cell_type": "markdown",
   "id": "f34b00ca",
   "metadata": {},
   "source": [
    "##### Data Inspection"
   ]
  },
  {
   "cell_type": "code",
   "execution_count": 7,
   "id": "b63af223",
   "metadata": {},
   "outputs": [
    {
     "data": {
      "text/plain": [
       "(921585, 5)"
      ]
     },
     "execution_count": 7,
     "metadata": {},
     "output_type": "execute_result"
    }
   ],
   "source": [
    "df.shape"
   ]
  },
  {
   "cell_type": "code",
   "execution_count": 8,
   "id": "22ae5672",
   "metadata": {},
   "outputs": [
    {
     "data": {
      "text/plain": [
       "534465"
      ]
     },
     "execution_count": 8,
     "metadata": {},
     "output_type": "execute_result"
    }
   ],
   "source": [
    "#Check for na values in narrative columns\n",
    "df['narrative'].isna().sum()"
   ]
  },
  {
   "cell_type": "code",
   "execution_count": 9,
   "id": "eeaa0cf8",
   "metadata": {},
   "outputs": [
    {
     "data": {
      "text/plain": [
       "(387120, 5)"
      ]
     },
     "execution_count": 9,
     "metadata": {},
     "output_type": "execute_result"
    }
   ],
   "source": [
    "#Removing the rows having nan values in narrative column\n",
    "df = df[df['narrative'].notna()]\n",
    "df =df.reset_index(drop=True)\n",
    "df.shape"
   ]
  },
  {
   "cell_type": "code",
   "execution_count": 10,
   "id": "d65b4403",
   "metadata": {},
   "outputs": [
    {
     "data": {
      "text/plain": [
       "Credit reporting, credit repair services, or other personal consumer reports    274742\n",
       "Debt collection                                                                  31685\n",
       "Credit card or prepaid card                                                      23842\n",
       "Checking or savings account                                                      22374\n",
       "Mortgage                                                                         12746\n",
       "Money transfer, virtual currency, or money service                                8291\n",
       "Vehicle loan or lease                                                             5778\n",
       "Student loan                                                                      4171\n",
       "Payday loan, title loan, or personal loan                                         3491\n",
       "Name: product, dtype: int64"
      ]
     },
     "execution_count": 10,
     "metadata": {},
     "output_type": "execute_result"
    }
   ],
   "source": [
    "df['product'].value_counts()"
   ]
  },
  {
   "cell_type": "markdown",
   "id": "f362f237",
   "metadata": {},
   "source": [
    "##### Text pre-processing"
   ]
  },
  {
   "cell_type": "code",
   "execution_count": 11,
   "id": "08dff458",
   "metadata": {},
   "outputs": [],
   "source": [
    "# Convert text data to lower case\n",
    "df['narrative'] =df['narrative'].apply(lambda x: ' '.join([i.lower() for i in x.split()]))"
   ]
  },
  {
   "cell_type": "code",
   "execution_count": 12,
   "id": "0aa63867",
   "metadata": {},
   "outputs": [],
   "source": [
    "# Removing the punctuations\n",
    "df['narrative'] =df['narrative'].str.replace(r'[^\\w\\s]',\"\")"
   ]
  },
  {
   "cell_type": "code",
   "execution_count": 13,
   "id": "4420cbe5",
   "metadata": {},
   "outputs": [],
   "source": [
    "#Removing the patterns xxxx\n",
    "df['narrative'] = df['narrative'].str.replace(r\"xx+\\s\",\"\")"
   ]
  },
  {
   "cell_type": "code",
   "execution_count": 14,
   "id": "90c3aa0b",
   "metadata": {},
   "outputs": [],
   "source": [
    "#Removing the stop words\n",
    "from nltk.corpus import stopwords\n",
    "stop = stopwords.words('english')\n",
    "df['narrative'] =df['narrative'].apply(lambda x: ' '.join([i for i in x.split() if i not in stop]))\n",
    "#Remove the numbers \n",
    "df['narrative'] = df['narrative'].str.replace('\\d+', '')"
   ]
  },
  {
   "cell_type": "code",
   "execution_count": 15,
   "id": "cd050c8c",
   "metadata": {},
   "outputs": [],
   "source": [
    "#Lemmatizing\n",
    "from textblob import Word\n",
    "\n",
    "df['narrative'] =df['narrative'].apply(lambda x:' '.join([Word(i).lemmatize() for i in x.split()]))"
   ]
  },
  {
   "cell_type": "code",
   "execution_count": 16,
   "id": "c2d2b52e",
   "metadata": {},
   "outputs": [],
   "source": [
    "import nltk\n",
    "\n",
    "w_tokenizer = nltk.tokenize.WhitespaceTokenizer()\n",
    "lemmatizer = nltk.stem.WordNetLemmatizer()\n",
    "\n",
    "def lemmatize_text(text):\n",
    "    return [lemmatizer.lemmatize(w) for w in w_tokenizer.tokenize(text)]\n",
    "df['narrative_tokens'] = df.narrative.apply(lemmatize_text)"
   ]
  },
  {
   "cell_type": "markdown",
   "id": "4c87345a",
   "metadata": {},
   "source": [
    "##### Combine categories\n",
    "- Rename \"credit_reporting\"\n",
    "- Rename \"debt_collection\"\n",
    "- Rename \"credit_card\"\n",
    "- Rename \"mortgage\"\n",
    "- Combine \"checking\" and \"money transfer\" into \"retail_banking\"\n",
    "- Combine the loans into \"loans\""
   ]
  },
  {
   "cell_type": "code",
   "execution_count": 17,
   "id": "2e343edb",
   "metadata": {},
   "outputs": [],
   "source": [
    "df['product'].replace({'Credit reporting, credit repair services, or other personal consumer reports': 'credit_reporting',\n",
    "                       'Debt collection': 'debt_collection',\n",
    "                       'Credit card or prepaid card': 'credit_card',\n",
    "                       'Mortgage': 'mortgage',\n",
    "                       'Checking or savings account': 'retail_banking',\n",
    "                       'Money transfer, virtual currency, or money service': 'retail_banking',\n",
    "                       'Vehicle loan or lease': 'loans',\n",
    "                       'Payday loan, title loan, or personal loan': 'loans',\n",
    "                       'Student loan': 'loans'}, inplace=True)"
   ]
  },
  {
   "cell_type": "code",
   "execution_count": 18,
   "id": "f6ff513e",
   "metadata": {},
   "outputs": [
    {
     "data": {
      "text/plain": [
       "credit_reporting    274742\n",
       "debt_collection      31685\n",
       "retail_banking       30665\n",
       "credit_card          23842\n",
       "loans                13440\n",
       "mortgage             12746\n",
       "Name: product, dtype: int64"
      ]
     },
     "execution_count": 18,
     "metadata": {},
     "output_type": "execute_result"
    }
   ],
   "source": [
    "df['product'].value_counts()"
   ]
  },
  {
   "cell_type": "code",
   "execution_count": 19,
   "id": "fc8232ad",
   "metadata": {},
   "outputs": [
    {
     "data": {
      "text/plain": [
       "credit_reporting       274742\n",
       "debt_collection         31685\n",
       "retail_banking          30665\n",
       "mortgages_and_loans     26186\n",
       "credit_card             23842\n",
       "Name: product, dtype: int64"
      ]
     },
     "execution_count": 19,
     "metadata": {},
     "output_type": "execute_result"
    }
   ],
   "source": [
    "#Mortgage and loans are the smallest. Since they're both types of loans, combine them.\n",
    "df['product'].replace({'mortgage': 'mortgages_and_loans',\n",
    "                       'loans': 'mortgages_and_loans'}, inplace=True)\n",
    "df['product'].value_counts()"
   ]
  },
  {
   "cell_type": "code",
   "execution_count": 20,
   "id": "c60827bd",
   "metadata": {},
   "outputs": [
    {
     "data": {
      "text/html": [
       "<div>\n",
       "<style scoped>\n",
       "    .dataframe tbody tr th:only-of-type {\n",
       "        vertical-align: middle;\n",
       "    }\n",
       "\n",
       "    .dataframe tbody tr th {\n",
       "        vertical-align: top;\n",
       "    }\n",
       "\n",
       "    .dataframe thead th {\n",
       "        text-align: right;\n",
       "    }\n",
       "</style>\n",
       "<table border=\"1\" class=\"dataframe\">\n",
       "  <thead>\n",
       "    <tr style=\"text-align: right;\">\n",
       "      <th></th>\n",
       "      <th>product</th>\n",
       "      <th>subproduct</th>\n",
       "      <th>issue</th>\n",
       "      <th>subissue</th>\n",
       "      <th>narrative</th>\n",
       "      <th>narrative_tokens</th>\n",
       "    </tr>\n",
       "  </thead>\n",
       "  <tbody>\n",
       "    <tr>\n",
       "      <th>0</th>\n",
       "      <td>credit_reporting</td>\n",
       "      <td>Credit reporting</td>\n",
       "      <td>Incorrect information on your report</td>\n",
       "      <td>Information belongs to someone else</td>\n",
       "      <td>hi submitting isnt influence third party trans...</td>\n",
       "      <td>[hi, submitting, isnt, influence, third, party...</td>\n",
       "    </tr>\n",
       "    <tr>\n",
       "      <th>1</th>\n",
       "      <td>mortgages_and_loans</td>\n",
       "      <td>Other type of mortgage</td>\n",
       "      <td>Applying for a mortgage or refinancing an exis...</td>\n",
       "      <td>None</td>\n",
       "      <td>applied preapproval property order able view s...</td>\n",
       "      <td>[applied, preapproval, property, order, able, ...</td>\n",
       "    </tr>\n",
       "    <tr>\n",
       "      <th>2</th>\n",
       "      <td>credit_reporting</td>\n",
       "      <td>Credit reporting</td>\n",
       "      <td>Problem with a credit reporting company's inve...</td>\n",
       "      <td>Problem with personal statement of dispute</td>\n",
       "      <td>investigation found information disputed inacc...</td>\n",
       "      <td>[investigation, found, information, disputed, ...</td>\n",
       "    </tr>\n",
       "    <tr>\n",
       "      <th>3</th>\n",
       "      <td>credit_reporting</td>\n",
       "      <td>Credit reporting</td>\n",
       "      <td>Improper use of your report</td>\n",
       "      <td>Reporting company used your report improperly</td>\n",
       "      <td>accordance fair credit reporting act violated ...</td>\n",
       "      <td>[accordance, fair, credit, reporting, act, vio...</td>\n",
       "    </tr>\n",
       "    <tr>\n",
       "      <th>4</th>\n",
       "      <td>debt_collection</td>\n",
       "      <td>Other debt</td>\n",
       "      <td>Attempts to collect debt not owed</td>\n",
       "      <td>Debt is not yours</td>\n",
       "      <td>address credit reporting company tx dear cfpb ...</td>\n",
       "      <td>[address, credit, reporting, company, tx, dear...</td>\n",
       "    </tr>\n",
       "  </tbody>\n",
       "</table>\n",
       "</div>"
      ],
      "text/plain": [
       "               product              subproduct  \\\n",
       "0     credit_reporting        Credit reporting   \n",
       "1  mortgages_and_loans  Other type of mortgage   \n",
       "2     credit_reporting        Credit reporting   \n",
       "3     credit_reporting        Credit reporting   \n",
       "4      debt_collection              Other debt   \n",
       "\n",
       "                                               issue  \\\n",
       "0               Incorrect information on your report   \n",
       "1  Applying for a mortgage or refinancing an exis...   \n",
       "2  Problem with a credit reporting company's inve...   \n",
       "3                        Improper use of your report   \n",
       "4                  Attempts to collect debt not owed   \n",
       "\n",
       "                                        subissue  \\\n",
       "0            Information belongs to someone else   \n",
       "1                                           None   \n",
       "2     Problem with personal statement of dispute   \n",
       "3  Reporting company used your report improperly   \n",
       "4                              Debt is not yours   \n",
       "\n",
       "                                           narrative  \\\n",
       "0  hi submitting isnt influence third party trans...   \n",
       "1  applied preapproval property order able view s...   \n",
       "2  investigation found information disputed inacc...   \n",
       "3  accordance fair credit reporting act violated ...   \n",
       "4  address credit reporting company tx dear cfpb ...   \n",
       "\n",
       "                                    narrative_tokens  \n",
       "0  [hi, submitting, isnt, influence, third, party...  \n",
       "1  [applied, preapproval, property, order, able, ...  \n",
       "2  [investigation, found, information, disputed, ...  \n",
       "3  [accordance, fair, credit, reporting, act, vio...  \n",
       "4  [address, credit, reporting, company, tx, dear...  "
      ]
     },
     "execution_count": 20,
     "metadata": {},
     "output_type": "execute_result"
    }
   ],
   "source": [
    "df.head()"
   ]
  },
  {
   "cell_type": "markdown",
   "id": "3faeba0e",
   "metadata": {},
   "source": [
    "##### Model Building"
   ]
  },
  {
   "cell_type": "code",
   "execution_count": 21,
   "id": "bab2d3b6",
   "metadata": {},
   "outputs": [],
   "source": [
    "product_dict ={'credit_reporting': 0, 'debt_collection': 1, 'mortgages_and_loans': 2, \n",
    "               'credit_card': 3, 'retail_banking': 4}\n",
    "df['product'].replace(product_dict, inplace=True)"
   ]
  },
  {
   "cell_type": "code",
   "execution_count": 22,
   "id": "6fae6461",
   "metadata": {},
   "outputs": [
    {
     "data": {
      "text/plain": [
       "array([0, 2, 1, 4, 3], dtype=int64)"
      ]
     },
     "execution_count": 22,
     "metadata": {},
     "output_type": "execute_result"
    }
   ],
   "source": [
    "df['product'].unique()"
   ]
  },
  {
   "cell_type": "code",
   "execution_count": 23,
   "id": "1fd8655f",
   "metadata": {},
   "outputs": [],
   "source": [
    "#Train-Test Split\n",
    "X = df.drop(['product'], axis=1)\n",
    "y = df['product']\n",
    "\n",
    "X_train, X_test, y_train, y_test = train_test_split(X['narrative'], y, test_size=0.20, random_state=200)"
   ]
  },
  {
   "cell_type": "code",
   "execution_count": 24,
   "id": "acbe89f6",
   "metadata": {},
   "outputs": [],
   "source": [
    "tfidf = TfidfVectorizer(max_features=16000)\n",
    "pipeline = Pipeline([('vectorizer', tfidf), \n",
    "                                ('model',GradientBoostingClassifier(random_state=123, max_depth=5))])"
   ]
  },
  {
   "cell_type": "code",
   "execution_count": 25,
   "id": "1a7c7989",
   "metadata": {},
   "outputs": [
    {
     "data": {
      "text/plain": [
       "Pipeline(steps=[('vectorizer', TfidfVectorizer(max_features=16000)),\n",
       "                ('model',\n",
       "                 GradientBoostingClassifier(max_depth=5, random_state=123))])"
      ]
     },
     "execution_count": 25,
     "metadata": {},
     "output_type": "execute_result"
    }
   ],
   "source": [
    "pipeline.fit(X_train, y_train)"
   ]
  },
  {
   "cell_type": "code",
   "execution_count": 26,
   "id": "11294639",
   "metadata": {},
   "outputs": [
    {
     "name": "stdout",
     "output_type": "stream",
     "text": [
      "              precision    recall  f1-score   support\n",
      "\n",
      "           0       0.93      0.97      0.95     54832\n",
      "           1       0.78      0.65      0.71      6307\n",
      "           2       0.85      0.78      0.81      5261\n",
      "           3       0.79      0.72      0.75      4858\n",
      "           4       0.88      0.86      0.87      6166\n",
      "\n",
      "    accuracy                           0.91     77424\n",
      "   macro avg       0.85      0.79      0.82     77424\n",
      "weighted avg       0.90      0.91      0.90     77424\n",
      "\n",
      "Accuracy: 90.5507336226493 %\n"
     ]
    }
   ],
   "source": [
    "# Testing the Pipeline\n",
    "y_pred = pipeline.predict(X_test)\n",
    "print(classification_report(y_test, y_pred))\n",
    "print('Accuracy: {} %'.format(100 * accuracy_score(y_test, y_pred)))"
   ]
  },
  {
   "cell_type": "code",
   "execution_count": 29,
   "id": "83c84210",
   "metadata": {},
   "outputs": [
    {
     "data": {
      "text/plain": [
       "['complaints_classifier.joblib']"
      ]
     },
     "execution_count": 29,
     "metadata": {},
     "output_type": "execute_result"
    }
   ],
   "source": [
    "# Saving the Pipeline\n",
    "\n",
    "from joblib import dump\n",
    "dump(pipeline, 'complaints_classifier.joblib')"
   ]
  },
  {
   "cell_type": "code",
   "execution_count": null,
   "id": "de1ff097",
   "metadata": {},
   "outputs": [],
   "source": []
  }
 ],
 "metadata": {
  "kernelspec": {
   "display_name": "Python 3 (ipykernel)",
   "language": "python",
   "name": "python3"
  },
  "language_info": {
   "codemirror_mode": {
    "name": "ipython",
    "version": 3
   },
   "file_extension": ".py",
   "mimetype": "text/x-python",
   "name": "python",
   "nbconvert_exporter": "python",
   "pygments_lexer": "ipython3",
   "version": "3.7.0"
  }
 },
 "nbformat": 4,
 "nbformat_minor": 5
}
